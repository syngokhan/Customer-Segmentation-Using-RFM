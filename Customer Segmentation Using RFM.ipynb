{
 "cells": [
  {
   "cell_type": "code",
   "execution_count": 1,
   "id": "applied-termination",
   "metadata": {},
   "outputs": [],
   "source": [
    "import pandas as pd\n",
    "import numpy as np\n",
    "import seaborn as sns\n",
    "import matplotlib.pyplot as plt\n",
    "%matplotlib inline"
   ]
  },
  {
   "cell_type": "code",
   "execution_count": 2,
   "id": "quiet-parcel",
   "metadata": {},
   "outputs": [],
   "source": [
    "pd.set_option(\"display.max_columns\" , None)\n",
    "pd.set_option(\"display.float_format\" , lambda x : \"%.4f\" % x)\n",
    "pd.set_option(\"display.width\" , 200)"
   ]
  },
  {
   "cell_type": "code",
   "execution_count": 3,
   "id": "parental-vacuum",
   "metadata": {},
   "outputs": [],
   "source": [
    "from warnings import filterwarnings\n",
    "filterwarnings(\"ignore\")"
   ]
  },
  {
   "cell_type": "code",
   "execution_count": 4,
   "id": "related-domain",
   "metadata": {},
   "outputs": [],
   "source": [
    "path= \"/Users/gokhanersoz/Desktop/VBO_Dataset/online_retail_II.xlsx\""
   ]
  },
  {
   "cell_type": "code",
   "execution_count": 5,
   "id": "peripheral-driving",
   "metadata": {},
   "outputs": [],
   "source": [
    "online_retail = pd.read_excel(path ,sheet_name = \"Year 2010-2011\")"
   ]
  },
  {
   "cell_type": "markdown",
   "id": "efficient-trust",
   "metadata": {},
   "source": [
    "# Mission 1:\n",
    "\n",
    "### Understanding and Preparing Data\n",
    "\n",
    "### 1. Read the 2010-2011 data in the OnlineRetail II excel. Make a copy of the dataframe you created. "
   ]
  },
  {
   "cell_type": "code",
   "execution_count": 6,
   "id": "rural-cutting",
   "metadata": {},
   "outputs": [
    {
     "data": {
      "text/html": [
       "<div>\n",
       "<style scoped>\n",
       "    .dataframe tbody tr th:only-of-type {\n",
       "        vertical-align: middle;\n",
       "    }\n",
       "\n",
       "    .dataframe tbody tr th {\n",
       "        vertical-align: top;\n",
       "    }\n",
       "\n",
       "    .dataframe thead th {\n",
       "        text-align: right;\n",
       "    }\n",
       "</style>\n",
       "<table border=\"1\" class=\"dataframe\">\n",
       "  <thead>\n",
       "    <tr style=\"text-align: right;\">\n",
       "      <th></th>\n",
       "      <th>Invoice</th>\n",
       "      <th>StockCode</th>\n",
       "      <th>Description</th>\n",
       "      <th>Quantity</th>\n",
       "      <th>InvoiceDate</th>\n",
       "      <th>Price</th>\n",
       "      <th>Customer ID</th>\n",
       "      <th>Country</th>\n",
       "    </tr>\n",
       "  </thead>\n",
       "  <tbody>\n",
       "    <tr>\n",
       "      <th>0</th>\n",
       "      <td>536365</td>\n",
       "      <td>85123A</td>\n",
       "      <td>WHITE HANGING HEART T-LIGHT HOLDER</td>\n",
       "      <td>6</td>\n",
       "      <td>2010-12-01 08:26:00</td>\n",
       "      <td>2.5500</td>\n",
       "      <td>17850.0000</td>\n",
       "      <td>United Kingdom</td>\n",
       "    </tr>\n",
       "    <tr>\n",
       "      <th>1</th>\n",
       "      <td>536365</td>\n",
       "      <td>71053</td>\n",
       "      <td>WHITE METAL LANTERN</td>\n",
       "      <td>6</td>\n",
       "      <td>2010-12-01 08:26:00</td>\n",
       "      <td>3.3900</td>\n",
       "      <td>17850.0000</td>\n",
       "      <td>United Kingdom</td>\n",
       "    </tr>\n",
       "    <tr>\n",
       "      <th>2</th>\n",
       "      <td>536365</td>\n",
       "      <td>84406B</td>\n",
       "      <td>CREAM CUPID HEARTS COAT HANGER</td>\n",
       "      <td>8</td>\n",
       "      <td>2010-12-01 08:26:00</td>\n",
       "      <td>2.7500</td>\n",
       "      <td>17850.0000</td>\n",
       "      <td>United Kingdom</td>\n",
       "    </tr>\n",
       "    <tr>\n",
       "      <th>3</th>\n",
       "      <td>536365</td>\n",
       "      <td>84029G</td>\n",
       "      <td>KNITTED UNION FLAG HOT WATER BOTTLE</td>\n",
       "      <td>6</td>\n",
       "      <td>2010-12-01 08:26:00</td>\n",
       "      <td>3.3900</td>\n",
       "      <td>17850.0000</td>\n",
       "      <td>United Kingdom</td>\n",
       "    </tr>\n",
       "    <tr>\n",
       "      <th>4</th>\n",
       "      <td>536365</td>\n",
       "      <td>84029E</td>\n",
       "      <td>RED WOOLLY HOTTIE WHITE HEART.</td>\n",
       "      <td>6</td>\n",
       "      <td>2010-12-01 08:26:00</td>\n",
       "      <td>3.3900</td>\n",
       "      <td>17850.0000</td>\n",
       "      <td>United Kingdom</td>\n",
       "    </tr>\n",
       "  </tbody>\n",
       "</table>\n",
       "</div>"
      ],
      "text/plain": [
       "  Invoice StockCode                          Description  Quantity         InvoiceDate  Price  Customer ID         Country\n",
       "0  536365    85123A   WHITE HANGING HEART T-LIGHT HOLDER         6 2010-12-01 08:26:00 2.5500   17850.0000  United Kingdom\n",
       "1  536365     71053                  WHITE METAL LANTERN         6 2010-12-01 08:26:00 3.3900   17850.0000  United Kingdom\n",
       "2  536365    84406B       CREAM CUPID HEARTS COAT HANGER         8 2010-12-01 08:26:00 2.7500   17850.0000  United Kingdom\n",
       "3  536365    84029G  KNITTED UNION FLAG HOT WATER BOTTLE         6 2010-12-01 08:26:00 3.3900   17850.0000  United Kingdom\n",
       "4  536365    84029E       RED WOOLLY HOTTIE WHITE HEART.         6 2010-12-01 08:26:00 3.3900   17850.0000  United Kingdom"
      ]
     },
     "execution_count": 6,
     "metadata": {},
     "output_type": "execute_result"
    }
   ],
   "source": [
    "df = online_retail.copy()\n",
    "df.head()"
   ]
  },
  {
   "cell_type": "code",
   "execution_count": 7,
   "id": "greatest-december",
   "metadata": {},
   "outputs": [
    {
     "data": {
      "text/plain": [
       "2"
      ]
     },
     "execution_count": 7,
     "metadata": {},
     "output_type": "execute_result"
    }
   ],
   "source": [
    "df.ndim"
   ]
  },
  {
   "cell_type": "markdown",
   "id": "demanding-plastic",
   "metadata": {},
   "source": [
    "### 2. Examine the descriptive statistics of the dataset."
   ]
  },
  {
   "cell_type": "code",
   "execution_count": 8,
   "id": "understood-preservation",
   "metadata": {},
   "outputs": [],
   "source": [
    "def check_dataframe(dataframe, head = 5 , tail = 5):\n",
    "    \n",
    "    print(\" head \".upper().center(50,\"#\"),end=\"\\n\\n\")\n",
    "    print(dataframe.head(head),end=\"\\n\\n\")\n",
    "    \n",
    "    print(\" tail \".upper().center(50,\"#\"),end=\"\\n\\n\")\n",
    "    print(dataframe.tail(tail),end=\"\\n\\n\")\n",
    "     \n",
    "    print(\" ndim \".upper().center(50,\"#\"),end=\"\\n\\n\")\n",
    "    print(f\"{dataframe.ndim} Dimension\",end=\"\\n\\n\")\n",
    "          \n",
    "    print(\" dtypes \".upper().center(50,\"#\"),end=\"\\n\\n\")\n",
    "    print(dataframe.dtypes,end=\"\\n\\n\")\n",
    "          \n",
    "    print(\" ınfo \".upper().center(50,\"#\"),end=\"\\n\\n\")\n",
    "    print(dataframe.info(),end=\"\\n\\n\")\n",
    "          \n",
    "    print(\" na \".upper().center(50,\"#\"),end=\"\\n\\n\")\n",
    "    print(dataframe.isnull().sum(),end=\"\\n\\n\")\n",
    "          \n",
    "    print(\" describe \".upper().center(50,\"#\"),end=\"\\n\\n\")\n",
    "    print(dataframe.describe([0.01,0.99]).T)"
   ]
  },
  {
   "cell_type": "code",
   "execution_count": 9,
   "id": "cleared-honey",
   "metadata": {},
   "outputs": [
    {
     "name": "stdout",
     "output_type": "stream",
     "text": [
      "###################### HEAD ######################\n",
      "\n",
      "  Invoice StockCode                          Description  Quantity         InvoiceDate  Price  Customer ID         Country\n",
      "0  536365    85123A   WHITE HANGING HEART T-LIGHT HOLDER         6 2010-12-01 08:26:00 2.5500   17850.0000  United Kingdom\n",
      "1  536365     71053                  WHITE METAL LANTERN         6 2010-12-01 08:26:00 3.3900   17850.0000  United Kingdom\n",
      "2  536365    84406B       CREAM CUPID HEARTS COAT HANGER         8 2010-12-01 08:26:00 2.7500   17850.0000  United Kingdom\n",
      "3  536365    84029G  KNITTED UNION FLAG HOT WATER BOTTLE         6 2010-12-01 08:26:00 3.3900   17850.0000  United Kingdom\n",
      "4  536365    84029E       RED WOOLLY HOTTIE WHITE HEART.         6 2010-12-01 08:26:00 3.3900   17850.0000  United Kingdom\n",
      "\n",
      "###################### TAIL ######################\n",
      "\n",
      "       Invoice StockCode                      Description  Quantity         InvoiceDate   Price  Customer ID Country\n",
      "541905  581587     22899     CHILDREN'S APRON DOLLY GIRL          6 2011-12-09 12:50:00  2.1000   12680.0000  France\n",
      "541906  581587     23254    CHILDRENS CUTLERY DOLLY GIRL          4 2011-12-09 12:50:00  4.1500   12680.0000  France\n",
      "541907  581587     23255  CHILDRENS CUTLERY CIRCUS PARADE         4 2011-12-09 12:50:00  4.1500   12680.0000  France\n",
      "541908  581587     22138    BAKING SET 9 PIECE RETROSPOT          3 2011-12-09 12:50:00  4.9500   12680.0000  France\n",
      "541909  581587      POST                          POSTAGE         1 2011-12-09 12:50:00 18.0000   12680.0000  France\n",
      "\n",
      "###################### NDIM ######################\n",
      "\n",
      "2 Dimension\n",
      "\n",
      "##################### DTYPES #####################\n",
      "\n",
      "Invoice                object\n",
      "StockCode              object\n",
      "Description            object\n",
      "Quantity                int64\n",
      "InvoiceDate    datetime64[ns]\n",
      "Price                 float64\n",
      "Customer ID           float64\n",
      "Country                object\n",
      "dtype: object\n",
      "\n",
      "###################### INFO ######################\n",
      "\n",
      "<class 'pandas.core.frame.DataFrame'>\n",
      "RangeIndex: 541910 entries, 0 to 541909\n",
      "Data columns (total 8 columns):\n",
      " #   Column       Non-Null Count   Dtype         \n",
      "---  ------       --------------   -----         \n",
      " 0   Invoice      541910 non-null  object        \n",
      " 1   StockCode    541910 non-null  object        \n",
      " 2   Description  540456 non-null  object        \n",
      " 3   Quantity     541910 non-null  int64         \n",
      " 4   InvoiceDate  541910 non-null  datetime64[ns]\n",
      " 5   Price        541910 non-null  float64       \n",
      " 6   Customer ID  406830 non-null  float64       \n",
      " 7   Country      541910 non-null  object        \n",
      "dtypes: datetime64[ns](1), float64(2), int64(1), object(4)\n",
      "memory usage: 33.1+ MB\n",
      "None\n",
      "\n",
      "####################### NA #######################\n",
      "\n",
      "Invoice             0\n",
      "StockCode           0\n",
      "Description      1454\n",
      "Quantity            0\n",
      "InvoiceDate         0\n",
      "Price               0\n",
      "Customer ID    135080\n",
      "Country             0\n",
      "dtype: int64\n",
      "\n",
      "#################### DESCRIBE ####################\n",
      "\n",
      "                  count       mean       std         min         1%        50%        99%        max\n",
      "Quantity    541910.0000     9.5522  218.0810 -80995.0000    -2.0000     3.0000   100.0000 80995.0000\n",
      "Price       541910.0000     4.6111   96.7598 -11062.0600     0.1900     2.0800    18.0000 38970.0000\n",
      "Customer ID 406830.0000 15287.6842 1713.6031  12346.0000 12415.0000 15152.0000 18212.0000 18287.0000\n"
     ]
    }
   ],
   "source": [
    "check_dataframe(df)"
   ]
  },
  {
   "cell_type": "markdown",
   "id": "moving-motion",
   "metadata": {},
   "source": [
    "### 3. Are there any missing observations in the dataset? If yes, how many missing observations in each variable?"
   ]
  },
  {
   "cell_type": "code",
   "execution_count": 10,
   "id": "fresh-procurement",
   "metadata": {},
   "outputs": [
    {
     "data": {
      "text/html": [
       "<div>\n",
       "<style scoped>\n",
       "    .dataframe tbody tr th:only-of-type {\n",
       "        vertical-align: middle;\n",
       "    }\n",
       "\n",
       "    .dataframe tbody tr th {\n",
       "        vertical-align: top;\n",
       "    }\n",
       "\n",
       "    .dataframe thead th {\n",
       "        text-align: right;\n",
       "    }\n",
       "</style>\n",
       "<table border=\"1\" class=\"dataframe\">\n",
       "  <thead>\n",
       "    <tr style=\"text-align: right;\">\n",
       "      <th></th>\n",
       "      <th>Description</th>\n",
       "      <th>Customer ID</th>\n",
       "    </tr>\n",
       "  </thead>\n",
       "  <tbody>\n",
       "    <tr>\n",
       "      <th>NA Values</th>\n",
       "      <td>1454</td>\n",
       "      <td>135080</td>\n",
       "    </tr>\n",
       "  </tbody>\n",
       "</table>\n",
       "</div>"
      ],
      "text/plain": [
       "           Description  Customer ID\n",
       "NA Values         1454       135080"
      ]
     },
     "execution_count": 10,
     "metadata": {},
     "output_type": "execute_result"
    }
   ],
   "source": [
    "na = df.isnull().sum()\n",
    "na = pd.DataFrame(na[na>0], columns = [\"NA Values\"]).T\n",
    "na_names = na.columns\n",
    "na"
   ]
  },
  {
   "cell_type": "code",
   "execution_count": 11,
   "id": "super-telephone",
   "metadata": {},
   "outputs": [
    {
     "data": {
      "image/png": "[encoded data removed]",
      "text/plain": [
       "<Figure size 720x504 with 2 Axes>"
      ]
     },
     "metadata": {
      "needs_background": "light"
     },
     "output_type": "display_data"
    }
   ],
   "source": [
    "plt.figure(figsize = (10,7))\n",
    "data = df.isnull()[na_names]\n",
    "\n",
    "sns.heatmap(data = data , cmap = \"viridis\",yticklabels=False)\n",
    "plt.ylabel(\"Na Values\")\n",
    "plt.show()"
   ]
  },
  {
   "cell_type": "markdown",
   "id": "charming-kazakhstan",
   "metadata": {},
   "source": [
    "### 4. Remove the missing observations from the data set. Use the 'inplace=True' parameter for removal."
   ]
  },
  {
   "cell_type": "code",
   "execution_count": 12,
   "id": "finished-riding",
   "metadata": {},
   "outputs": [
    {
     "data": {
      "text/html": [
       "<div>\n",
       "<style scoped>\n",
       "    .dataframe tbody tr th:only-of-type {\n",
       "        vertical-align: middle;\n",
       "    }\n",
       "\n",
       "    .dataframe tbody tr th {\n",
       "        vertical-align: top;\n",
       "    }\n",
       "\n",
       "    .dataframe thead th {\n",
       "        text-align: right;\n",
       "    }\n",
       "</style>\n",
       "<table border=\"1\" class=\"dataframe\">\n",
       "  <thead>\n",
       "    <tr style=\"text-align: right;\">\n",
       "      <th></th>\n",
       "      <th>count</th>\n",
       "      <th>mean</th>\n",
       "      <th>std</th>\n",
       "      <th>min</th>\n",
       "      <th>1%</th>\n",
       "      <th>50%</th>\n",
       "      <th>99%</th>\n",
       "      <th>max</th>\n",
       "    </tr>\n",
       "  </thead>\n",
       "  <tbody>\n",
       "    <tr>\n",
       "      <th>Quantity</th>\n",
       "      <td>541910.0000</td>\n",
       "      <td>9.5522</td>\n",
       "      <td>218.0810</td>\n",
       "      <td>-80995.0000</td>\n",
       "      <td>-2.0000</td>\n",
       "      <td>3.0000</td>\n",
       "      <td>100.0000</td>\n",
       "      <td>80995.0000</td>\n",
       "    </tr>\n",
       "    <tr>\n",
       "      <th>Price</th>\n",
       "      <td>541910.0000</td>\n",
       "      <td>4.6111</td>\n",
       "      <td>96.7598</td>\n",
       "      <td>-11062.0600</td>\n",
       "      <td>0.1900</td>\n",
       "      <td>2.0800</td>\n",
       "      <td>18.0000</td>\n",
       "      <td>38970.0000</td>\n",
       "    </tr>\n",
       "    <tr>\n",
       "      <th>Customer ID</th>\n",
       "      <td>406830.0000</td>\n",
       "      <td>15287.6842</td>\n",
       "      <td>1713.6031</td>\n",
       "      <td>12346.0000</td>\n",
       "      <td>12415.0000</td>\n",
       "      <td>15152.0000</td>\n",
       "      <td>18212.0000</td>\n",
       "      <td>18287.0000</td>\n",
       "    </tr>\n",
       "  </tbody>\n",
       "</table>\n",
       "</div>"
      ],
      "text/plain": [
       "                  count       mean       std         min         1%        50%        99%        max\n",
       "Quantity    541910.0000     9.5522  218.0810 -80995.0000    -2.0000     3.0000   100.0000 80995.0000\n",
       "Price       541910.0000     4.6111   96.7598 -11062.0600     0.1900     2.0800    18.0000 38970.0000\n",
       "Customer ID 406830.0000 15287.6842 1713.6031  12346.0000 12415.0000 15152.0000 18212.0000 18287.0000"
      ]
     },
     "execution_count": 12,
     "metadata": {},
     "output_type": "execute_result"
    }
   ],
   "source": [
    "df.describe([0.01, 0.99]).T"
   ]
  },
  {
   "cell_type": "code",
   "execution_count": 13,
   "id": "coordinated-border",
   "metadata": {},
   "outputs": [
    {
     "data": {
      "text/plain": [
       "Invoice        0\n",
       "StockCode      0\n",
       "Description    0\n",
       "Quantity       0\n",
       "InvoiceDate    0\n",
       "Price          0\n",
       "Customer ID    0\n",
       "Country        0\n",
       "dtype: int64"
      ]
     },
     "execution_count": 13,
     "metadata": {},
     "output_type": "execute_result"
    }
   ],
   "source": [
    "df.dropna(inplace = True)\n",
    "df.isnull().sum()"
   ]
  },
  {
   "cell_type": "code",
   "execution_count": 14,
   "id": "wound-march",
   "metadata": {},
   "outputs": [
    {
     "data": {
      "text/html": [
       "<div>\n",
       "<style scoped>\n",
       "    .dataframe tbody tr th:only-of-type {\n",
       "        vertical-align: middle;\n",
       "    }\n",
       "\n",
       "    .dataframe tbody tr th {\n",
       "        vertical-align: top;\n",
       "    }\n",
       "\n",
       "    .dataframe thead th {\n",
       "        text-align: right;\n",
       "    }\n",
       "</style>\n",
       "<table border=\"1\" class=\"dataframe\">\n",
       "  <thead>\n",
       "    <tr style=\"text-align: right;\">\n",
       "      <th></th>\n",
       "      <th>count</th>\n",
       "      <th>mean</th>\n",
       "      <th>std</th>\n",
       "      <th>min</th>\n",
       "      <th>1%</th>\n",
       "      <th>50%</th>\n",
       "      <th>99%</th>\n",
       "      <th>max</th>\n",
       "    </tr>\n",
       "  </thead>\n",
       "  <tbody>\n",
       "    <tr>\n",
       "      <th>Quantity</th>\n",
       "      <td>406830.0000</td>\n",
       "      <td>12.0613</td>\n",
       "      <td>248.6931</td>\n",
       "      <td>-80995.0000</td>\n",
       "      <td>-2.0000</td>\n",
       "      <td>5.0000</td>\n",
       "      <td>120.0000</td>\n",
       "      <td>80995.0000</td>\n",
       "    </tr>\n",
       "    <tr>\n",
       "      <th>Price</th>\n",
       "      <td>406830.0000</td>\n",
       "      <td>3.4605</td>\n",
       "      <td>69.3151</td>\n",
       "      <td>0.0000</td>\n",
       "      <td>0.2100</td>\n",
       "      <td>1.9500</td>\n",
       "      <td>15.0000</td>\n",
       "      <td>38970.0000</td>\n",
       "    </tr>\n",
       "    <tr>\n",
       "      <th>Customer ID</th>\n",
       "      <td>406830.0000</td>\n",
       "      <td>15287.6842</td>\n",
       "      <td>1713.6031</td>\n",
       "      <td>12346.0000</td>\n",
       "      <td>12415.0000</td>\n",
       "      <td>15152.0000</td>\n",
       "      <td>18212.0000</td>\n",
       "      <td>18287.0000</td>\n",
       "    </tr>\n",
       "  </tbody>\n",
       "</table>\n",
       "</div>"
      ],
      "text/plain": [
       "                  count       mean       std         min         1%        50%        99%        max\n",
       "Quantity    406830.0000    12.0613  248.6931 -80995.0000    -2.0000     5.0000   120.0000 80995.0000\n",
       "Price       406830.0000     3.4605   69.3151      0.0000     0.2100     1.9500    15.0000 38970.0000\n",
       "Customer ID 406830.0000 15287.6842 1713.6031  12346.0000 12415.0000 15152.0000 18212.0000 18287.0000"
      ]
     },
     "execution_count": 14,
     "metadata": {},
     "output_type": "execute_result"
    }
   ],
   "source": [
    "df.describe([0.01, 0.99]).T"
   ]
  },
  {
   "cell_type": "markdown",
   "id": "british-singapore",
   "metadata": {},
   "source": [
    "### 5. How many unique items are there?"
   ]
  },
  {
   "cell_type": "code",
   "execution_count": 15,
   "id": "suburban-specific",
   "metadata": {},
   "outputs": [
    {
     "name": "stdout",
     "output_type": "stream",
     "text": [
      "For INVOICE Nunique Values : 22190\n",
      "\n",
      "For STOCKCODE Nunique Values : 3684\n",
      "\n",
      "For DESCRIPTION Nunique Values : 3896\n",
      "\n",
      "For QUANTITY Nunique Values : 436\n",
      "\n",
      "For INVOICEDATE Nunique Values : 20460\n",
      "\n",
      "For PRICE Nunique Values : 620\n",
      "\n",
      "For CUSTOMER ID Nunique Values : 4372\n",
      "\n",
      "For COUNTRY Nunique Values : 37\n",
      "\n"
     ]
    }
   ],
   "source": [
    "for col in df.columns :\n",
    "    print(f\"For {col.upper()} Nunique Values : {df[col].nunique()}\",end = \"\\n\\n\")"
   ]
  },
  {
   "cell_type": "code",
   "execution_count": 16,
   "id": "lonely-style",
   "metadata": {},
   "outputs": [
    {
     "name": "stdout",
     "output_type": "stream",
     "text": [
      "For STOCKCODE Nunique Values : 3684\n"
     ]
    }
   ],
   "source": [
    "# Target Values\n",
    "\n",
    "items = \"StockCode\"\n",
    "print(f\"For {items.upper()} Nunique Values : {df[items].nunique()}\")"
   ]
  },
  {
   "cell_type": "markdown",
   "id": "soviet-newport",
   "metadata": {},
   "source": [
    "### 6. How many of each product are there?"
   ]
  },
  {
   "cell_type": "code",
   "execution_count": 17,
   "id": "common-frontier",
   "metadata": {},
   "outputs": [
    {
     "data": {
      "text/html": [
       "<div>\n",
       "<style scoped>\n",
       "    .dataframe tbody tr th:only-of-type {\n",
       "        vertical-align: middle;\n",
       "    }\n",
       "\n",
       "    .dataframe tbody tr th {\n",
       "        vertical-align: top;\n",
       "    }\n",
       "\n",
       "    .dataframe thead th {\n",
       "        text-align: right;\n",
       "    }\n",
       "</style>\n",
       "<table border=\"1\" class=\"dataframe\">\n",
       "  <thead>\n",
       "    <tr style=\"text-align: right;\">\n",
       "      <th></th>\n",
       "      <th>StockCode</th>\n",
       "      <th>Values</th>\n",
       "    </tr>\n",
       "  </thead>\n",
       "  <tbody>\n",
       "    <tr>\n",
       "      <th>0</th>\n",
       "      <td>85123A</td>\n",
       "      <td>2077</td>\n",
       "    </tr>\n",
       "    <tr>\n",
       "      <th>1</th>\n",
       "      <td>22423</td>\n",
       "      <td>1905</td>\n",
       "    </tr>\n",
       "    <tr>\n",
       "      <th>2</th>\n",
       "      <td>85099B</td>\n",
       "      <td>1662</td>\n",
       "    </tr>\n",
       "    <tr>\n",
       "      <th>3</th>\n",
       "      <td>84879</td>\n",
       "      <td>1418</td>\n",
       "    </tr>\n",
       "    <tr>\n",
       "      <th>4</th>\n",
       "      <td>47566</td>\n",
       "      <td>1416</td>\n",
       "    </tr>\n",
       "    <tr>\n",
       "      <th>5</th>\n",
       "      <td>20725</td>\n",
       "      <td>1359</td>\n",
       "    </tr>\n",
       "    <tr>\n",
       "      <th>6</th>\n",
       "      <td>22720</td>\n",
       "      <td>1232</td>\n",
       "    </tr>\n",
       "    <tr>\n",
       "      <th>7</th>\n",
       "      <td>POST</td>\n",
       "      <td>1197</td>\n",
       "    </tr>\n",
       "    <tr>\n",
       "      <th>8</th>\n",
       "      <td>20727</td>\n",
       "      <td>1126</td>\n",
       "    </tr>\n",
       "    <tr>\n",
       "      <th>9</th>\n",
       "      <td>22197</td>\n",
       "      <td>1118</td>\n",
       "    </tr>\n",
       "  </tbody>\n",
       "</table>\n",
       "</div>"
      ],
      "text/plain": [
       "  StockCode  Values\n",
       "0    85123A    2077\n",
       "1     22423    1905\n",
       "2    85099B    1662\n",
       "3     84879    1418\n",
       "4     47566    1416\n",
       "5     20725    1359\n",
       "6     22720    1232\n",
       "7      POST    1197\n",
       "8     20727    1126\n",
       "9     22197    1118"
      ]
     },
     "execution_count": 17,
     "metadata": {},
     "output_type": "execute_result"
    }
   ],
   "source": [
    "target = df[items].value_counts()\n",
    "target = pd.DataFrame(target).reset_index()\n",
    "target.columns = [\"StockCode\", \"Values\"]\n",
    "target.head(10)"
   ]
  },
  {
   "cell_type": "markdown",
   "id": "toxic-gambling",
   "metadata": {},
   "source": [
    "### 7. Sort the 5 most ordered products from most to least."
   ]
  },
  {
   "cell_type": "code",
   "execution_count": 18,
   "id": "periodic-alert",
   "metadata": {},
   "outputs": [
    {
     "data": {
      "text/html": [
       "<div>\n",
       "<style scoped>\n",
       "    .dataframe tbody tr th:only-of-type {\n",
       "        vertical-align: middle;\n",
       "    }\n",
       "\n",
       "    .dataframe tbody tr th {\n",
       "        vertical-align: top;\n",
       "    }\n",
       "\n",
       "    .dataframe thead th {\n",
       "        text-align: right;\n",
       "    }\n",
       "</style>\n",
       "<table border=\"1\" class=\"dataframe\">\n",
       "  <thead>\n",
       "    <tr style=\"text-align: right;\">\n",
       "      <th></th>\n",
       "      <th>Quantity</th>\n",
       "    </tr>\n",
       "    <tr>\n",
       "      <th>StockCode</th>\n",
       "      <th></th>\n",
       "    </tr>\n",
       "  </thead>\n",
       "  <tbody>\n",
       "    <tr>\n",
       "      <th>84077</th>\n",
       "      <td>53215</td>\n",
       "    </tr>\n",
       "    <tr>\n",
       "      <th>22197</th>\n",
       "      <td>48712</td>\n",
       "    </tr>\n",
       "    <tr>\n",
       "      <th>85099B</th>\n",
       "      <td>45066</td>\n",
       "    </tr>\n",
       "    <tr>\n",
       "      <th>84879</th>\n",
       "      <td>35314</td>\n",
       "    </tr>\n",
       "    <tr>\n",
       "      <th>85123A</th>\n",
       "      <td>34204</td>\n",
       "    </tr>\n",
       "  </tbody>\n",
       "</table>\n",
       "</div>"
      ],
      "text/plain": [
       "           Quantity\n",
       "StockCode          \n",
       "84077         53215\n",
       "22197         48712\n",
       "85099B        45066\n",
       "84879         35314\n",
       "85123A        34204"
      ]
     },
     "execution_count": 18,
     "metadata": {},
     "output_type": "execute_result"
    }
   ],
   "source": [
    "five_values = df.groupby([\"StockCode\"])[[\"Quantity\"]].sum().sort_values(by = \"Quantity\" , ascending = False)\n",
    "five_values.head()"
   ]
  },
  {
   "cell_type": "code",
   "execution_count": 19,
   "id": "special-fifty",
   "metadata": {},
   "outputs": [
    {
     "data": {
      "text/html": [
       "<div>\n",
       "<style scoped>\n",
       "    .dataframe tbody tr th:only-of-type {\n",
       "        vertical-align: middle;\n",
       "    }\n",
       "\n",
       "    .dataframe tbody tr th {\n",
       "        vertical-align: top;\n",
       "    }\n",
       "\n",
       "    .dataframe thead th {\n",
       "        text-align: right;\n",
       "    }\n",
       "</style>\n",
       "<table border=\"1\" class=\"dataframe\">\n",
       "  <thead>\n",
       "    <tr style=\"text-align: right;\">\n",
       "      <th></th>\n",
       "      <th>StockCode</th>\n",
       "      <th>Values</th>\n",
       "    </tr>\n",
       "  </thead>\n",
       "  <tbody>\n",
       "    <tr>\n",
       "      <th>0</th>\n",
       "      <td>85123A</td>\n",
       "      <td>2077</td>\n",
       "    </tr>\n",
       "    <tr>\n",
       "      <th>1</th>\n",
       "      <td>22423</td>\n",
       "      <td>1905</td>\n",
       "    </tr>\n",
       "    <tr>\n",
       "      <th>2</th>\n",
       "      <td>85099B</td>\n",
       "      <td>1662</td>\n",
       "    </tr>\n",
       "    <tr>\n",
       "      <th>3</th>\n",
       "      <td>84879</td>\n",
       "      <td>1418</td>\n",
       "    </tr>\n",
       "    <tr>\n",
       "      <th>4</th>\n",
       "      <td>47566</td>\n",
       "      <td>1416</td>\n",
       "    </tr>\n",
       "  </tbody>\n",
       "</table>\n",
       "</div>"
      ],
      "text/plain": [
       "  StockCode  Values\n",
       "0    85123A    2077\n",
       "1     22423    1905\n",
       "2    85099B    1662\n",
       "3     84879    1418\n",
       "4     47566    1416"
      ]
     },
     "execution_count": 19,
     "metadata": {},
     "output_type": "execute_result"
    }
   ],
   "source": [
    "target.sort_values(by =\"Values\" , ascending = False).head()"
   ]
  },
  {
   "cell_type": "markdown",
   "id": "danish-fashion",
   "metadata": {},
   "source": [
    "### 8. The 'C' in the invoices shows the canceled transactions. Remove the canceled transactions from the data set."
   ]
  },
  {
   "cell_type": "code",
   "execution_count": 20,
   "id": "literary-associate",
   "metadata": {},
   "outputs": [
    {
     "name": "stdout",
     "output_type": "stream",
     "text": [
      "DataFrame Shape : (406830, 8)\n"
     ]
    }
   ],
   "source": [
    "print(f\"DataFrame Shape : {df.shape}\")"
   ]
  },
  {
   "cell_type": "code",
   "execution_count": 21,
   "id": "naughty-liquid",
   "metadata": {},
   "outputs": [
    {
     "data": {
      "text/plain": [
       "0    NaN\n",
       "1    NaN\n",
       "2    NaN\n",
       "Name: Invoice, dtype: object"
      ]
     },
     "execution_count": 21,
     "metadata": {},
     "output_type": "execute_result"
    }
   ],
   "source": [
    "df[\"Invoice\"].str.contains(\"C\", na = None).head(3)"
   ]
  },
  {
   "cell_type": "code",
   "execution_count": 22,
   "id": "statutory-premises",
   "metadata": {},
   "outputs": [
    {
     "data": {
      "text/plain": [
       "0    False\n",
       "1    False\n",
       "2    False\n",
       "Name: Invoice, dtype: bool"
      ]
     },
     "execution_count": 22,
     "metadata": {},
     "output_type": "execute_result"
    }
   ],
   "source": [
    "df[\"Invoice\"].str.contains(\"C\" , na = False).head(3)"
   ]
  },
  {
   "cell_type": "code",
   "execution_count": 23,
   "id": "polar-seafood",
   "metadata": {},
   "outputs": [
    {
     "name": "stdout",
     "output_type": "stream",
     "text": [
      "DataFrame Shape : (397925, 8)\n"
     ]
    }
   ],
   "source": [
    "# The reason we set na = False would normally return None if na = None. \n",
    "# We fill them with False instead, which we convert to True with \"~\" and catch them.\n",
    "\n",
    "df = df[~df[\"Invoice\"].str.contains(\"C\", na = False )]\n",
    "print(f\"DataFrame Shape : {df.shape}\")"
   ]
  },
  {
   "cell_type": "markdown",
   "id": "mobile-somalia",
   "metadata": {},
   "source": [
    "### 9. Create a variable named 'Total Price' that represents the total earnings per invoice."
   ]
  },
  {
   "cell_type": "code",
   "execution_count": 24,
   "id": "daily-brazil",
   "metadata": {},
   "outputs": [
    {
     "data": {
      "text/html": [
       "<div>\n",
       "<style scoped>\n",
       "    .dataframe tbody tr th:only-of-type {\n",
       "        vertical-align: middle;\n",
       "    }\n",
       "\n",
       "    .dataframe tbody tr th {\n",
       "        vertical-align: top;\n",
       "    }\n",
       "\n",
       "    .dataframe thead th {\n",
       "        text-align: right;\n",
       "    }\n",
       "</style>\n",
       "<table border=\"1\" class=\"dataframe\">\n",
       "  <thead>\n",
       "    <tr style=\"text-align: right;\">\n",
       "      <th></th>\n",
       "      <th>Invoice</th>\n",
       "      <th>StockCode</th>\n",
       "      <th>Description</th>\n",
       "      <th>Quantity</th>\n",
       "      <th>InvoiceDate</th>\n",
       "      <th>Price</th>\n",
       "      <th>Customer ID</th>\n",
       "      <th>Country</th>\n",
       "    </tr>\n",
       "  </thead>\n",
       "  <tbody>\n",
       "    <tr>\n",
       "      <th>0</th>\n",
       "      <td>536365</td>\n",
       "      <td>85123A</td>\n",
       "      <td>WHITE HANGING HEART T-LIGHT HOLDER</td>\n",
       "      <td>6</td>\n",
       "      <td>2010-12-01 08:26:00</td>\n",
       "      <td>2.5500</td>\n",
       "      <td>17850.0000</td>\n",
       "      <td>United Kingdom</td>\n",
       "    </tr>\n",
       "    <tr>\n",
       "      <th>1</th>\n",
       "      <td>536365</td>\n",
       "      <td>71053</td>\n",
       "      <td>WHITE METAL LANTERN</td>\n",
       "      <td>6</td>\n",
       "      <td>2010-12-01 08:26:00</td>\n",
       "      <td>3.3900</td>\n",
       "      <td>17850.0000</td>\n",
       "      <td>United Kingdom</td>\n",
       "    </tr>\n",
       "    <tr>\n",
       "      <th>2</th>\n",
       "      <td>536365</td>\n",
       "      <td>84406B</td>\n",
       "      <td>CREAM CUPID HEARTS COAT HANGER</td>\n",
       "      <td>8</td>\n",
       "      <td>2010-12-01 08:26:00</td>\n",
       "      <td>2.7500</td>\n",
       "      <td>17850.0000</td>\n",
       "      <td>United Kingdom</td>\n",
       "    </tr>\n",
       "    <tr>\n",
       "      <th>3</th>\n",
       "      <td>536365</td>\n",
       "      <td>84029G</td>\n",
       "      <td>KNITTED UNION FLAG HOT WATER BOTTLE</td>\n",
       "      <td>6</td>\n",
       "      <td>2010-12-01 08:26:00</td>\n",
       "      <td>3.3900</td>\n",
       "      <td>17850.0000</td>\n",
       "      <td>United Kingdom</td>\n",
       "    </tr>\n",
       "    <tr>\n",
       "      <th>4</th>\n",
       "      <td>536365</td>\n",
       "      <td>84029E</td>\n",
       "      <td>RED WOOLLY HOTTIE WHITE HEART.</td>\n",
       "      <td>6</td>\n",
       "      <td>2010-12-01 08:26:00</td>\n",
       "      <td>3.3900</td>\n",
       "      <td>17850.0000</td>\n",
       "      <td>United Kingdom</td>\n",
       "    </tr>\n",
       "  </tbody>\n",
       "</table>\n",
       "</div>"
      ],
      "text/plain": [
       "  Invoice StockCode                          Description  Quantity         InvoiceDate  Price  Customer ID         Country\n",
       "0  536365    85123A   WHITE HANGING HEART T-LIGHT HOLDER         6 2010-12-01 08:26:00 2.5500   17850.0000  United Kingdom\n",
       "1  536365     71053                  WHITE METAL LANTERN         6 2010-12-01 08:26:00 3.3900   17850.0000  United Kingdom\n",
       "2  536365    84406B       CREAM CUPID HEARTS COAT HANGER         8 2010-12-01 08:26:00 2.7500   17850.0000  United Kingdom\n",
       "3  536365    84029G  KNITTED UNION FLAG HOT WATER BOTTLE         6 2010-12-01 08:26:00 3.3900   17850.0000  United Kingdom\n",
       "4  536365    84029E       RED WOOLLY HOTTIE WHITE HEART.         6 2010-12-01 08:26:00 3.3900   17850.0000  United Kingdom"
      ]
     },
     "execution_count": 24,
     "metadata": {},
     "output_type": "execute_result"
    }
   ],
   "source": [
    "df.head()"
   ]
  },
  {
   "cell_type": "code",
   "execution_count": 25,
   "id": "clean-roberts",
   "metadata": {},
   "outputs": [
    {
     "data": {
      "text/html": [
       "<div>\n",
       "<style scoped>\n",
       "    .dataframe tbody tr th:only-of-type {\n",
       "        vertical-align: middle;\n",
       "    }\n",
       "\n",
       "    .dataframe tbody tr th {\n",
       "        vertical-align: top;\n",
       "    }\n",
       "\n",
       "    .dataframe thead th {\n",
       "        text-align: right;\n",
       "    }\n",
       "</style>\n",
       "<table border=\"1\" class=\"dataframe\">\n",
       "  <thead>\n",
       "    <tr style=\"text-align: right;\">\n",
       "      <th></th>\n",
       "      <th>Invoice</th>\n",
       "      <th>StockCode</th>\n",
       "      <th>Description</th>\n",
       "      <th>Quantity</th>\n",
       "      <th>InvoiceDate</th>\n",
       "      <th>Price</th>\n",
       "      <th>Customer ID</th>\n",
       "      <th>Country</th>\n",
       "      <th>TotalPrice</th>\n",
       "    </tr>\n",
       "  </thead>\n",
       "  <tbody>\n",
       "    <tr>\n",
       "      <th>0</th>\n",
       "      <td>536365</td>\n",
       "      <td>85123A</td>\n",
       "      <td>WHITE HANGING HEART T-LIGHT HOLDER</td>\n",
       "      <td>6</td>\n",
       "      <td>2010-12-01 08:26:00</td>\n",
       "      <td>2.5500</td>\n",
       "      <td>17850.0000</td>\n",
       "      <td>United Kingdom</td>\n",
       "      <td>15.3000</td>\n",
       "    </tr>\n",
       "    <tr>\n",
       "      <th>1</th>\n",
       "      <td>536365</td>\n",
       "      <td>71053</td>\n",
       "      <td>WHITE METAL LANTERN</td>\n",
       "      <td>6</td>\n",
       "      <td>2010-12-01 08:26:00</td>\n",
       "      <td>3.3900</td>\n",
       "      <td>17850.0000</td>\n",
       "      <td>United Kingdom</td>\n",
       "      <td>20.3400</td>\n",
       "    </tr>\n",
       "    <tr>\n",
       "      <th>2</th>\n",
       "      <td>536365</td>\n",
       "      <td>84406B</td>\n",
       "      <td>CREAM CUPID HEARTS COAT HANGER</td>\n",
       "      <td>8</td>\n",
       "      <td>2010-12-01 08:26:00</td>\n",
       "      <td>2.7500</td>\n",
       "      <td>17850.0000</td>\n",
       "      <td>United Kingdom</td>\n",
       "      <td>22.0000</td>\n",
       "    </tr>\n",
       "    <tr>\n",
       "      <th>3</th>\n",
       "      <td>536365</td>\n",
       "      <td>84029G</td>\n",
       "      <td>KNITTED UNION FLAG HOT WATER BOTTLE</td>\n",
       "      <td>6</td>\n",
       "      <td>2010-12-01 08:26:00</td>\n",
       "      <td>3.3900</td>\n",
       "      <td>17850.0000</td>\n",
       "      <td>United Kingdom</td>\n",
       "      <td>20.3400</td>\n",
       "    </tr>\n",
       "    <tr>\n",
       "      <th>4</th>\n",
       "      <td>536365</td>\n",
       "      <td>84029E</td>\n",
       "      <td>RED WOOLLY HOTTIE WHITE HEART.</td>\n",
       "      <td>6</td>\n",
       "      <td>2010-12-01 08:26:00</td>\n",
       "      <td>3.3900</td>\n",
       "      <td>17850.0000</td>\n",
       "      <td>United Kingdom</td>\n",
       "      <td>20.3400</td>\n",
       "    </tr>\n",
       "  </tbody>\n",
       "</table>\n",
       "</div>"
      ],
      "text/plain": [
       "  Invoice StockCode                          Description  Quantity         InvoiceDate  Price  Customer ID         Country  TotalPrice\n",
       "0  536365    85123A   WHITE HANGING HEART T-LIGHT HOLDER         6 2010-12-01 08:26:00 2.5500   17850.0000  United Kingdom     15.3000\n",
       "1  536365     71053                  WHITE METAL LANTERN         6 2010-12-01 08:26:00 3.3900   17850.0000  United Kingdom     20.3400\n",
       "2  536365    84406B       CREAM CUPID HEARTS COAT HANGER         8 2010-12-01 08:26:00 2.7500   17850.0000  United Kingdom     22.0000\n",
       "3  536365    84029G  KNITTED UNION FLAG HOT WATER BOTTLE         6 2010-12-01 08:26:00 3.3900   17850.0000  United Kingdom     20.3400\n",
       "4  536365    84029E       RED WOOLLY HOTTIE WHITE HEART.         6 2010-12-01 08:26:00 3.3900   17850.0000  United Kingdom     20.3400"
      ]
     },
     "execution_count": 25,
     "metadata": {},
     "output_type": "execute_result"
    }
   ],
   "source": [
    "df[\"TotalPrice\"] = df[\"Quantity\"] * df[\"Price\"]\n",
    "df.head()"
   ]
  },
  {
   "cell_type": "markdown",
   "id": "running-stake",
   "metadata": {},
   "source": [
    "## Mission 2:\n",
    "\n",
    "## Calculation of RFM metrics\n",
    "\n",
    "▪ Make the definitions of Recency, Frequency and Monetary.\n",
    "\n",
    "▪ Customer specific Recency, Frequency and Monetary metrics with groupby, agg and lambda\n",
    "calculate.\n",
    "\n",
    "▪ Assign your calculated metrics to a variable named rfm.\n",
    "\n",
    "▪ Change the names of the metrics you created to recency, frequency and monetary.\n",
    "\n",
    "Note 1: For the recency value, accept today's date as (2011, 12, 11).\n",
    "\n",
    "Note 2: After creating the rfm dataframe, filter the dataset to \"monetary>0\"."
   ]
  },
  {
   "cell_type": "code",
   "execution_count": 26,
   "id": "conventional-spouse",
   "metadata": {},
   "outputs": [
    {
     "data": {
      "text/plain": [
       "Timestamp('2011-12-09 12:50:00')"
      ]
     },
     "execution_count": 26,
     "metadata": {},
     "output_type": "execute_result"
    }
   ],
   "source": [
    "df[\"InvoiceDate\"].max()"
   ]
  },
  {
   "cell_type": "code",
   "execution_count": 27,
   "id": "tropical-airline",
   "metadata": {},
   "outputs": [
    {
     "data": {
      "text/plain": [
       "datetime.datetime(2011, 12, 11, 0, 0)"
      ]
     },
     "execution_count": 27,
     "metadata": {},
     "output_type": "execute_result"
    }
   ],
   "source": [
    "# We looked at a max value and added 2 days on top of it....\n",
    "\n",
    "import datetime\n",
    "today_date = datetime.datetime(2011,12,11)\n",
    "today_date"
   ]
  },
  {
   "cell_type": "code",
   "execution_count": 28,
   "id": "efficient-heaven",
   "metadata": {},
   "outputs": [],
   "source": [
    "rfm = df.groupby(\"Customer ID\").agg({\"InvoiceDate\" : lambda InvoiceDate : (today_date - InvoiceDate.max()).days,\n",
    "                                    \"Invoice\" : lambda Invoice : Invoice.nunique(),\n",
    "                                    \"TotalPrice\" : lambda TotalPrice : TotalPrice.sum()})"
   ]
  },
  {
   "cell_type": "code",
   "execution_count": 29,
   "id": "different-deviation",
   "metadata": {},
   "outputs": [
    {
     "data": {
      "text/html": [
       "<div>\n",
       "<style scoped>\n",
       "    .dataframe tbody tr th:only-of-type {\n",
       "        vertical-align: middle;\n",
       "    }\n",
       "\n",
       "    .dataframe tbody tr th {\n",
       "        vertical-align: top;\n",
       "    }\n",
       "\n",
       "    .dataframe thead th {\n",
       "        text-align: right;\n",
       "    }\n",
       "</style>\n",
       "<table border=\"1\" class=\"dataframe\">\n",
       "  <thead>\n",
       "    <tr style=\"text-align: right;\">\n",
       "      <th></th>\n",
       "      <th>InvoiceDate</th>\n",
       "      <th>Invoice</th>\n",
       "      <th>TotalPrice</th>\n",
       "    </tr>\n",
       "    <tr>\n",
       "      <th>Customer ID</th>\n",
       "      <th></th>\n",
       "      <th></th>\n",
       "      <th></th>\n",
       "    </tr>\n",
       "  </thead>\n",
       "  <tbody>\n",
       "    <tr>\n",
       "      <th>12346.0000</th>\n",
       "      <td>326</td>\n",
       "      <td>1</td>\n",
       "      <td>77183.6000</td>\n",
       "    </tr>\n",
       "    <tr>\n",
       "      <th>12347.0000</th>\n",
       "      <td>3</td>\n",
       "      <td>7</td>\n",
       "      <td>4310.0000</td>\n",
       "    </tr>\n",
       "    <tr>\n",
       "      <th>12348.0000</th>\n",
       "      <td>76</td>\n",
       "      <td>4</td>\n",
       "      <td>1797.2400</td>\n",
       "    </tr>\n",
       "    <tr>\n",
       "      <th>12349.0000</th>\n",
       "      <td>19</td>\n",
       "      <td>1</td>\n",
       "      <td>1757.5500</td>\n",
       "    </tr>\n",
       "    <tr>\n",
       "      <th>12350.0000</th>\n",
       "      <td>311</td>\n",
       "      <td>1</td>\n",
       "      <td>334.4000</td>\n",
       "    </tr>\n",
       "  </tbody>\n",
       "</table>\n",
       "</div>"
      ],
      "text/plain": [
       "             InvoiceDate  Invoice  TotalPrice\n",
       "Customer ID                                  \n",
       "12346.0000           326        1  77183.6000\n",
       "12347.0000             3        7   4310.0000\n",
       "12348.0000            76        4   1797.2400\n",
       "12349.0000            19        1   1757.5500\n",
       "12350.0000           311        1    334.4000"
      ]
     },
     "execution_count": 29,
     "metadata": {},
     "output_type": "execute_result"
    }
   ],
   "source": [
    "rfm.head()"
   ]
  },
  {
   "cell_type": "code",
   "execution_count": 30,
   "id": "found-access",
   "metadata": {},
   "outputs": [
    {
     "name": "stdout",
     "output_type": "stream",
     "text": [
      "Invoice :  1\n",
      "\n",
      "InvoiceDate :  326\n",
      "\n",
      "TotalPrice :  77183.6\n",
      "\n"
     ]
    }
   ],
   "source": [
    "# Control \n",
    "\n",
    "values = 12346.0000\n",
    "\n",
    "print(\"Invoice : \" , df[df[\"Customer ID\"] == values][\"Invoice\"].nunique(),end = \"\\n\\n\")\n",
    "\n",
    "print(\"InvoiceDate : \" , (today_date - df[df[\"Customer ID\"] == values][\"InvoiceDate\"].max()).days,end=\"\\n\\n\")\n",
    "\n",
    "print(\"TotalPrice : \" , df[df[\"Customer ID\"] == values][\"TotalPrice\"].sum(),end = \"\\n\\n\")"
   ]
  },
  {
   "cell_type": "code",
   "execution_count": 31,
   "id": "intense-testimony",
   "metadata": {},
   "outputs": [
    {
     "data": {
      "text/html": [
       "<div>\n",
       "<style scoped>\n",
       "    .dataframe tbody tr th:only-of-type {\n",
       "        vertical-align: middle;\n",
       "    }\n",
       "\n",
       "    .dataframe tbody tr th {\n",
       "        vertical-align: top;\n",
       "    }\n",
       "\n",
       "    .dataframe thead th {\n",
       "        text-align: right;\n",
       "    }\n",
       "</style>\n",
       "<table border=\"1\" class=\"dataframe\">\n",
       "  <thead>\n",
       "    <tr style=\"text-align: right;\">\n",
       "      <th></th>\n",
       "      <th>Recency</th>\n",
       "      <th>Frequence</th>\n",
       "      <th>Monetary</th>\n",
       "    </tr>\n",
       "    <tr>\n",
       "      <th>Customer ID</th>\n",
       "      <th></th>\n",
       "      <th></th>\n",
       "      <th></th>\n",
       "    </tr>\n",
       "  </thead>\n",
       "  <tbody>\n",
       "    <tr>\n",
       "      <th>12346.0000</th>\n",
       "      <td>326</td>\n",
       "      <td>1</td>\n",
       "      <td>77183.6000</td>\n",
       "    </tr>\n",
       "    <tr>\n",
       "      <th>12347.0000</th>\n",
       "      <td>3</td>\n",
       "      <td>7</td>\n",
       "      <td>4310.0000</td>\n",
       "    </tr>\n",
       "    <tr>\n",
       "      <th>12348.0000</th>\n",
       "      <td>76</td>\n",
       "      <td>4</td>\n",
       "      <td>1797.2400</td>\n",
       "    </tr>\n",
       "    <tr>\n",
       "      <th>12349.0000</th>\n",
       "      <td>19</td>\n",
       "      <td>1</td>\n",
       "      <td>1757.5500</td>\n",
       "    </tr>\n",
       "    <tr>\n",
       "      <th>12350.0000</th>\n",
       "      <td>311</td>\n",
       "      <td>1</td>\n",
       "      <td>334.4000</td>\n",
       "    </tr>\n",
       "  </tbody>\n",
       "</table>\n",
       "</div>"
      ],
      "text/plain": [
       "             Recency  Frequence   Monetary\n",
       "Customer ID                               \n",
       "12346.0000       326          1 77183.6000\n",
       "12347.0000         3          7  4310.0000\n",
       "12348.0000        76          4  1797.2400\n",
       "12349.0000        19          1  1757.5500\n",
       "12350.0000       311          1   334.4000"
      ]
     },
     "execution_count": 31,
     "metadata": {},
     "output_type": "execute_result"
    }
   ],
   "source": [
    "rfm.columns = [\"Recency\", \"Frequence\", \"Monetary\"]\n",
    "rfm.head()"
   ]
  },
  {
   "cell_type": "code",
   "execution_count": 32,
   "id": "difficult-search",
   "metadata": {},
   "outputs": [
    {
     "data": {
      "text/html": [
       "<div>\n",
       "<style scoped>\n",
       "    .dataframe tbody tr th:only-of-type {\n",
       "        vertical-align: middle;\n",
       "    }\n",
       "\n",
       "    .dataframe tbody tr th {\n",
       "        vertical-align: top;\n",
       "    }\n",
       "\n",
       "    .dataframe thead th {\n",
       "        text-align: right;\n",
       "    }\n",
       "</style>\n",
       "<table border=\"1\" class=\"dataframe\">\n",
       "  <thead>\n",
       "    <tr style=\"text-align: right;\">\n",
       "      <th></th>\n",
       "      <th>count</th>\n",
       "      <th>mean</th>\n",
       "      <th>std</th>\n",
       "      <th>min</th>\n",
       "      <th>25%</th>\n",
       "      <th>50%</th>\n",
       "      <th>75%</th>\n",
       "      <th>max</th>\n",
       "    </tr>\n",
       "  </thead>\n",
       "  <tbody>\n",
       "    <tr>\n",
       "      <th>Recency</th>\n",
       "      <td>4339.0000</td>\n",
       "      <td>93.0415</td>\n",
       "      <td>100.0078</td>\n",
       "      <td>1.0000</td>\n",
       "      <td>18.0000</td>\n",
       "      <td>51.0000</td>\n",
       "      <td>142.5000</td>\n",
       "      <td>374.0000</td>\n",
       "    </tr>\n",
       "    <tr>\n",
       "      <th>Frequence</th>\n",
       "      <td>4339.0000</td>\n",
       "      <td>4.2720</td>\n",
       "      <td>7.7055</td>\n",
       "      <td>1.0000</td>\n",
       "      <td>1.0000</td>\n",
       "      <td>2.0000</td>\n",
       "      <td>5.0000</td>\n",
       "      <td>210.0000</td>\n",
       "    </tr>\n",
       "    <tr>\n",
       "      <th>Monetary</th>\n",
       "      <td>4339.0000</td>\n",
       "      <td>2053.7972</td>\n",
       "      <td>8988.2478</td>\n",
       "      <td>0.0000</td>\n",
       "      <td>307.2450</td>\n",
       "      <td>674.4500</td>\n",
       "      <td>1661.6400</td>\n",
       "      <td>280206.0200</td>\n",
       "    </tr>\n",
       "  </tbody>\n",
       "</table>\n",
       "</div>"
      ],
      "text/plain": [
       "              count      mean       std    min      25%      50%       75%         max\n",
       "Recency   4339.0000   93.0415  100.0078 1.0000  18.0000  51.0000  142.5000    374.0000\n",
       "Frequence 4339.0000    4.2720    7.7055 1.0000   1.0000   2.0000    5.0000    210.0000\n",
       "Monetary  4339.0000 2053.7972 8988.2478 0.0000 307.2450 674.4500 1661.6400 280206.0200"
      ]
     },
     "execution_count": 32,
     "metadata": {},
     "output_type": "execute_result"
    }
   ],
   "source": [
    "#We caught the min value of the monetary value as 0 here, we need to fix it...\n",
    "rfm.describe().T"
   ]
  },
  {
   "cell_type": "code",
   "execution_count": 33,
   "id": "rising-oracle",
   "metadata": {},
   "outputs": [
    {
     "data": {
      "text/html": [
       "<div>\n",
       "<style scoped>\n",
       "    .dataframe tbody tr th:only-of-type {\n",
       "        vertical-align: middle;\n",
       "    }\n",
       "\n",
       "    .dataframe tbody tr th {\n",
       "        vertical-align: top;\n",
       "    }\n",
       "\n",
       "    .dataframe thead th {\n",
       "        text-align: right;\n",
       "    }\n",
       "</style>\n",
       "<table border=\"1\" class=\"dataframe\">\n",
       "  <thead>\n",
       "    <tr style=\"text-align: right;\">\n",
       "      <th></th>\n",
       "      <th>count</th>\n",
       "      <th>mean</th>\n",
       "      <th>std</th>\n",
       "      <th>min</th>\n",
       "      <th>25%</th>\n",
       "      <th>50%</th>\n",
       "      <th>75%</th>\n",
       "      <th>max</th>\n",
       "    </tr>\n",
       "  </thead>\n",
       "  <tbody>\n",
       "    <tr>\n",
       "      <th>Recency</th>\n",
       "      <td>4338.0000</td>\n",
       "      <td>93.0595</td>\n",
       "      <td>100.0123</td>\n",
       "      <td>1.0000</td>\n",
       "      <td>18.0000</td>\n",
       "      <td>51.0000</td>\n",
       "      <td>142.7500</td>\n",
       "      <td>374.0000</td>\n",
       "    </tr>\n",
       "    <tr>\n",
       "      <th>Frequence</th>\n",
       "      <td>4338.0000</td>\n",
       "      <td>4.2727</td>\n",
       "      <td>7.7062</td>\n",
       "      <td>1.0000</td>\n",
       "      <td>1.0000</td>\n",
       "      <td>2.0000</td>\n",
       "      <td>5.0000</td>\n",
       "      <td>210.0000</td>\n",
       "    </tr>\n",
       "    <tr>\n",
       "      <th>Monetary</th>\n",
       "      <td>4338.0000</td>\n",
       "      <td>2054.2706</td>\n",
       "      <td>8989.2299</td>\n",
       "      <td>3.7500</td>\n",
       "      <td>307.4150</td>\n",
       "      <td>674.4850</td>\n",
       "      <td>1661.7400</td>\n",
       "      <td>280206.0200</td>\n",
       "    </tr>\n",
       "  </tbody>\n",
       "</table>\n",
       "</div>"
      ],
      "text/plain": [
       "              count      mean       std    min      25%      50%       75%         max\n",
       "Recency   4338.0000   93.0595  100.0123 1.0000  18.0000  51.0000  142.7500    374.0000\n",
       "Frequence 4338.0000    4.2727    7.7062 1.0000   1.0000   2.0000    5.0000    210.0000\n",
       "Monetary  4338.0000 2054.2706 8989.2299 3.7500 307.4150 674.4850 1661.7400 280206.0200"
      ]
     },
     "execution_count": 33,
     "metadata": {},
     "output_type": "execute_result"
    }
   ],
   "source": [
    "rfm = rfm[rfm[\"Monetary\"] > 0]\n",
    "rfm.describe().T"
   ]
  },
  {
   "cell_type": "markdown",
   "id": "seeing-variation",
   "metadata": {},
   "source": [
    "## Mission 3:\n",
    "### Generating and converting RFM scores to a single variable\n",
    "\n",
    "▪ Convert Recency, Frequency and Monetary metrics to scores between 1-5 with the help of qcut.\n",
    "\n",
    "▪ Record these scores as recency_score, frequency_score and monetary_score.\n",
    "\n",
    "▪ Express recency_score and frequency_score as a single variable and save as RFM_SCORE.\n",
    "\n",
    "CAUTION! We do not include monetary_score."
   ]
  },
  {
   "cell_type": "code",
   "execution_count": 34,
   "id": "south-sampling",
   "metadata": {},
   "outputs": [
    {
     "data": {
      "text/html": [
       "<div>\n",
       "<style scoped>\n",
       "    .dataframe tbody tr th:only-of-type {\n",
       "        vertical-align: middle;\n",
       "    }\n",
       "\n",
       "    .dataframe tbody tr th {\n",
       "        vertical-align: top;\n",
       "    }\n",
       "\n",
       "    .dataframe thead th {\n",
       "        text-align: right;\n",
       "    }\n",
       "</style>\n",
       "<table border=\"1\" class=\"dataframe\">\n",
       "  <thead>\n",
       "    <tr style=\"text-align: right;\">\n",
       "      <th></th>\n",
       "      <th>count</th>\n",
       "      <th>mean</th>\n",
       "      <th>std</th>\n",
       "      <th>min</th>\n",
       "      <th>10%</th>\n",
       "      <th>20%</th>\n",
       "      <th>30%</th>\n",
       "      <th>40%</th>\n",
       "      <th>50%</th>\n",
       "      <th>60%</th>\n",
       "      <th>70%</th>\n",
       "      <th>80%</th>\n",
       "      <th>90%</th>\n",
       "      <th>max</th>\n",
       "    </tr>\n",
       "  </thead>\n",
       "  <tbody>\n",
       "    <tr>\n",
       "      <th>Recency</th>\n",
       "      <td>4338.0000</td>\n",
       "      <td>93.0595</td>\n",
       "      <td>100.0123</td>\n",
       "      <td>1.0000</td>\n",
       "      <td>6.0000</td>\n",
       "      <td>13.8000</td>\n",
       "      <td>23.0000</td>\n",
       "      <td>33.0000</td>\n",
       "      <td>51.0000</td>\n",
       "      <td>72.0000</td>\n",
       "      <td>109.0000</td>\n",
       "      <td>180.0000</td>\n",
       "      <td>263.3000</td>\n",
       "      <td>374.0000</td>\n",
       "    </tr>\n",
       "    <tr>\n",
       "      <th>Frequence</th>\n",
       "      <td>4338.0000</td>\n",
       "      <td>4.2727</td>\n",
       "      <td>7.7062</td>\n",
       "      <td>1.0000</td>\n",
       "      <td>1.0000</td>\n",
       "      <td>1.0000</td>\n",
       "      <td>1.0000</td>\n",
       "      <td>2.0000</td>\n",
       "      <td>2.0000</td>\n",
       "      <td>3.0000</td>\n",
       "      <td>4.0000</td>\n",
       "      <td>6.0000</td>\n",
       "      <td>9.0000</td>\n",
       "      <td>210.0000</td>\n",
       "    </tr>\n",
       "    <tr>\n",
       "      <th>Monetary</th>\n",
       "      <td>4338.0000</td>\n",
       "      <td>2054.2706</td>\n",
       "      <td>8989.2299</td>\n",
       "      <td>3.7500</td>\n",
       "      <td>156.6990</td>\n",
       "      <td>250.1940</td>\n",
       "      <td>351.7720</td>\n",
       "      <td>490.0960</td>\n",
       "      <td>674.4850</td>\n",
       "      <td>942.2760</td>\n",
       "      <td>1353.7400</td>\n",
       "      <td>2058.4260</td>\n",
       "      <td>3646.5310</td>\n",
       "      <td>280206.0200</td>\n",
       "    </tr>\n",
       "  </tbody>\n",
       "</table>\n",
       "</div>"
      ],
      "text/plain": [
       "              count      mean       std    min      10%      20%      30%      40%      50%      60%       70%       80%       90%         max\n",
       "Recency   4338.0000   93.0595  100.0123 1.0000   6.0000  13.8000  23.0000  33.0000  51.0000  72.0000  109.0000  180.0000  263.3000    374.0000\n",
       "Frequence 4338.0000    4.2727    7.7062 1.0000   1.0000   1.0000   1.0000   2.0000   2.0000   3.0000    4.0000    6.0000    9.0000    210.0000\n",
       "Monetary  4338.0000 2054.2706 8989.2299 3.7500 156.6990 250.1940 351.7720 490.0960 674.4850 942.2760 1353.7400 2058.4260 3646.5310 280206.0200"
      ]
     },
     "execution_count": 34,
     "metadata": {},
     "output_type": "execute_result"
    }
   ],
   "source": [
    "# If we pay attention to the frequency here, the same values appear in different quarters \n",
    "#and this will cause a problem, so we will use rank(method = \"first\")\n",
    "\n",
    "values = [.1, .2, .3, .4, .5, .6, .7, .8, .9]\n",
    "rfm.describe(values).T"
   ]
  },
  {
   "cell_type": "code",
   "execution_count": 35,
   "id": "chief-strand",
   "metadata": {},
   "outputs": [],
   "source": [
    "# For the Recency value, the scoring should be in reverse, the lowest value being the highest\n",
    "# [(0.999, 13.8] < (13.8, 33.0] < (33.0, 72.0] < (72.0, 180.0] < (180.0, 374.0]] ranges\n",
    "\n",
    "rfm[\"Recency_Score\"] = pd.qcut(rfm.Recency, 5, labels = [5,4,3,2,1])"
   ]
  },
  {
   "cell_type": "code",
   "execution_count": 36,
   "id": "thrown-silicon",
   "metadata": {},
   "outputs": [
    {
     "data": {
      "text/html": [
       "<div>\n",
       "<style scoped>\n",
       "    .dataframe tbody tr th:only-of-type {\n",
       "        vertical-align: middle;\n",
       "    }\n",
       "\n",
       "    .dataframe tbody tr th {\n",
       "        vertical-align: top;\n",
       "    }\n",
       "\n",
       "    .dataframe thead th {\n",
       "        text-align: right;\n",
       "    }\n",
       "</style>\n",
       "<table border=\"1\" class=\"dataframe\">\n",
       "  <thead>\n",
       "    <tr style=\"text-align: right;\">\n",
       "      <th></th>\n",
       "      <th>count</th>\n",
       "      <th>mean</th>\n",
       "      <th>std</th>\n",
       "      <th>min</th>\n",
       "      <th>10%</th>\n",
       "      <th>20%</th>\n",
       "      <th>30%</th>\n",
       "      <th>40%</th>\n",
       "      <th>50%</th>\n",
       "      <th>60%</th>\n",
       "      <th>70%</th>\n",
       "      <th>80%</th>\n",
       "      <th>90%</th>\n",
       "      <th>max</th>\n",
       "    </tr>\n",
       "  </thead>\n",
       "  <tbody>\n",
       "    <tr>\n",
       "      <th>Frequence</th>\n",
       "      <td>4338.0000</td>\n",
       "      <td>2169.5000</td>\n",
       "      <td>1252.4171</td>\n",
       "      <td>1.0000</td>\n",
       "      <td>434.7000</td>\n",
       "      <td>868.4000</td>\n",
       "      <td>1302.1000</td>\n",
       "      <td>1735.8000</td>\n",
       "      <td>2169.5000</td>\n",
       "      <td>2603.2000</td>\n",
       "      <td>3036.9000</td>\n",
       "      <td>3470.6000</td>\n",
       "      <td>3904.3000</td>\n",
       "      <td>4338.0000</td>\n",
       "    </tr>\n",
       "  </tbody>\n",
       "</table>\n",
       "</div>"
      ],
      "text/plain": [
       "              count      mean       std    min      10%      20%       30%       40%       50%       60%       70%       80%       90%       max\n",
       "Frequence 4338.0000 2169.5000 1252.4171 1.0000 434.7000 868.4000 1302.1000 1735.8000 2169.5000 2603.2000 3036.9000 3470.6000 3904.3000 4338.0000"
      ]
     },
     "execution_count": 36,
     "metadata": {},
     "output_type": "execute_result"
    }
   ],
   "source": [
    "pd.DataFrame(rfm.Frequence.rank(method=\"first\").describe(values)).T"
   ]
  },
  {
   "cell_type": "code",
   "execution_count": 37,
   "id": "broken-dominant",
   "metadata": {},
   "outputs": [],
   "source": [
    "# We will use the rank method for the frequency value as it captures the same values in different quarters\n",
    "\n",
    "# Note: We don't need to take it backwards here, anyway, the biggest area gets the highest score...\n",
    "\n",
    "# [(0.999, 868.4] < (868.4, 1735.8] < (1735.8, 2603.2] < (2603.2, 3470.6] < (3470.6, 4338.0]] ranges\n",
    "\n",
    "rfm[\"Frequence_Score\"] = pd.qcut(rfm.Frequence.rank(method=\"first\"), 5 , labels = [1,2,3,4,5])"
   ]
  },
  {
   "cell_type": "code",
   "execution_count": 38,
   "id": "exclusive-quilt",
   "metadata": {},
   "outputs": [],
   "source": [
    "# The one with the highest Monetary value has the highest score...\n",
    "\n",
    "#[(3.749, 250.194] < (250.194, 490.096] < (490.096, 942.276] <(942.276, 2058.426] <(2058.426, 280206.02]] ranges\n",
    "\n",
    "rfm[\"Monetary_Score\"] = pd.qcut(rfm.Monetary, 5 , labels = [1,2,3,4,5])"
   ]
  },
  {
   "cell_type": "code",
   "execution_count": 39,
   "id": "forbidden-technician",
   "metadata": {},
   "outputs": [
    {
     "data": {
      "text/html": [
       "<div>\n",
       "<style scoped>\n",
       "    .dataframe tbody tr th:only-of-type {\n",
       "        vertical-align: middle;\n",
       "    }\n",
       "\n",
       "    .dataframe tbody tr th {\n",
       "        vertical-align: top;\n",
       "    }\n",
       "\n",
       "    .dataframe thead th {\n",
       "        text-align: right;\n",
       "    }\n",
       "</style>\n",
       "<table border=\"1\" class=\"dataframe\">\n",
       "  <thead>\n",
       "    <tr style=\"text-align: right;\">\n",
       "      <th></th>\n",
       "      <th>Recency</th>\n",
       "      <th>Frequence</th>\n",
       "      <th>Monetary</th>\n",
       "      <th>Recency_Score</th>\n",
       "      <th>Frequence_Score</th>\n",
       "      <th>Monetary_Score</th>\n",
       "    </tr>\n",
       "    <tr>\n",
       "      <th>Customer ID</th>\n",
       "      <th></th>\n",
       "      <th></th>\n",
       "      <th></th>\n",
       "      <th></th>\n",
       "      <th></th>\n",
       "      <th></th>\n",
       "    </tr>\n",
       "  </thead>\n",
       "  <tbody>\n",
       "    <tr>\n",
       "      <th>12346.0000</th>\n",
       "      <td>326</td>\n",
       "      <td>1</td>\n",
       "      <td>77183.6000</td>\n",
       "      <td>1</td>\n",
       "      <td>1</td>\n",
       "      <td>5</td>\n",
       "    </tr>\n",
       "    <tr>\n",
       "      <th>12347.0000</th>\n",
       "      <td>3</td>\n",
       "      <td>7</td>\n",
       "      <td>4310.0000</td>\n",
       "      <td>5</td>\n",
       "      <td>5</td>\n",
       "      <td>5</td>\n",
       "    </tr>\n",
       "    <tr>\n",
       "      <th>12348.0000</th>\n",
       "      <td>76</td>\n",
       "      <td>4</td>\n",
       "      <td>1797.2400</td>\n",
       "      <td>2</td>\n",
       "      <td>4</td>\n",
       "      <td>4</td>\n",
       "    </tr>\n",
       "    <tr>\n",
       "      <th>12349.0000</th>\n",
       "      <td>19</td>\n",
       "      <td>1</td>\n",
       "      <td>1757.5500</td>\n",
       "      <td>4</td>\n",
       "      <td>1</td>\n",
       "      <td>4</td>\n",
       "    </tr>\n",
       "    <tr>\n",
       "      <th>12350.0000</th>\n",
       "      <td>311</td>\n",
       "      <td>1</td>\n",
       "      <td>334.4000</td>\n",
       "      <td>1</td>\n",
       "      <td>1</td>\n",
       "      <td>2</td>\n",
       "    </tr>\n",
       "  </tbody>\n",
       "</table>\n",
       "</div>"
      ],
      "text/plain": [
       "             Recency  Frequence   Monetary Recency_Score Frequence_Score Monetary_Score\n",
       "Customer ID                                                                            \n",
       "12346.0000       326          1 77183.6000             1               1              5\n",
       "12347.0000         3          7  4310.0000             5               5              5\n",
       "12348.0000        76          4  1797.2400             2               4              4\n",
       "12349.0000        19          1  1757.5500             4               1              4\n",
       "12350.0000       311          1   334.4000             1               1              2"
      ]
     },
     "execution_count": 39,
     "metadata": {},
     "output_type": "execute_result"
    }
   ],
   "source": [
    "rfm.head()"
   ]
  },
  {
   "cell_type": "code",
   "execution_count": 40,
   "id": "integral-google",
   "metadata": {},
   "outputs": [
    {
     "data": {
      "text/html": [
       "<div>\n",
       "<style scoped>\n",
       "    .dataframe tbody tr th:only-of-type {\n",
       "        vertical-align: middle;\n",
       "    }\n",
       "\n",
       "    .dataframe tbody tr th {\n",
       "        vertical-align: top;\n",
       "    }\n",
       "\n",
       "    .dataframe thead th {\n",
       "        text-align: right;\n",
       "    }\n",
       "</style>\n",
       "<table border=\"1\" class=\"dataframe\">\n",
       "  <thead>\n",
       "    <tr style=\"text-align: right;\">\n",
       "      <th></th>\n",
       "      <th>Recency</th>\n",
       "      <th>Frequence</th>\n",
       "      <th>Monetary</th>\n",
       "      <th>Recency_Score</th>\n",
       "      <th>Frequence_Score</th>\n",
       "      <th>Monetary_Score</th>\n",
       "      <th>RFM_SCORE</th>\n",
       "    </tr>\n",
       "    <tr>\n",
       "      <th>Customer ID</th>\n",
       "      <th></th>\n",
       "      <th></th>\n",
       "      <th></th>\n",
       "      <th></th>\n",
       "      <th></th>\n",
       "      <th></th>\n",
       "      <th></th>\n",
       "    </tr>\n",
       "  </thead>\n",
       "  <tbody>\n",
       "    <tr>\n",
       "      <th>12346.0000</th>\n",
       "      <td>326</td>\n",
       "      <td>1</td>\n",
       "      <td>77183.6000</td>\n",
       "      <td>1</td>\n",
       "      <td>1</td>\n",
       "      <td>5</td>\n",
       "      <td>11</td>\n",
       "    </tr>\n",
       "    <tr>\n",
       "      <th>12347.0000</th>\n",
       "      <td>3</td>\n",
       "      <td>7</td>\n",
       "      <td>4310.0000</td>\n",
       "      <td>5</td>\n",
       "      <td>5</td>\n",
       "      <td>5</td>\n",
       "      <td>55</td>\n",
       "    </tr>\n",
       "    <tr>\n",
       "      <th>12348.0000</th>\n",
       "      <td>76</td>\n",
       "      <td>4</td>\n",
       "      <td>1797.2400</td>\n",
       "      <td>2</td>\n",
       "      <td>4</td>\n",
       "      <td>4</td>\n",
       "      <td>24</td>\n",
       "    </tr>\n",
       "    <tr>\n",
       "      <th>12349.0000</th>\n",
       "      <td>19</td>\n",
       "      <td>1</td>\n",
       "      <td>1757.5500</td>\n",
       "      <td>4</td>\n",
       "      <td>1</td>\n",
       "      <td>4</td>\n",
       "      <td>41</td>\n",
       "    </tr>\n",
       "    <tr>\n",
       "      <th>12350.0000</th>\n",
       "      <td>311</td>\n",
       "      <td>1</td>\n",
       "      <td>334.4000</td>\n",
       "      <td>1</td>\n",
       "      <td>1</td>\n",
       "      <td>2</td>\n",
       "      <td>11</td>\n",
       "    </tr>\n",
       "  </tbody>\n",
       "</table>\n",
       "</div>"
      ],
      "text/plain": [
       "             Recency  Frequence   Monetary Recency_Score Frequence_Score Monetary_Score RFM_SCORE\n",
       "Customer ID                                                                                      \n",
       "12346.0000       326          1 77183.6000             1               1              5        11\n",
       "12347.0000         3          7  4310.0000             5               5              5        55\n",
       "12348.0000        76          4  1797.2400             2               4              4        24\n",
       "12349.0000        19          1  1757.5500             4               1              4        41\n",
       "12350.0000       311          1   334.4000             1               1              2        11"
      ]
     },
     "execution_count": 40,
     "metadata": {},
     "output_type": "execute_result"
    }
   ],
   "source": [
    "rfm[\"RFM_SCORE\"] = rfm[\"Recency_Score\"].astype(str) + rfm[\"Frequence_Score\"].astype(str)\n",
    "rfm.head()"
   ]
  },
  {
   "cell_type": "code",
   "execution_count": 41,
   "id": "reliable-ghana",
   "metadata": {},
   "outputs": [
    {
     "data": {
      "text/plain": [
       "439"
      ]
     },
     "execution_count": 41,
     "metadata": {},
     "output_type": "execute_result"
    }
   ],
   "source": [
    "# Champions\n",
    "\n",
    "rfm[rfm[\"RFM_SCORE\"] == \"55\"][\"RFM_SCORE\"].count()"
   ]
  },
  {
   "cell_type": "code",
   "execution_count": 42,
   "id": "environmental-usage",
   "metadata": {},
   "outputs": [
    {
     "data": {
      "text/plain": [
       "362"
      ]
     },
     "execution_count": 42,
     "metadata": {},
     "output_type": "execute_result"
    }
   ],
   "source": [
    "# Hiberneating\n",
    "\n",
    "rfm[rfm[\"RFM_SCORE\"] == \"11\"][\"RFM_SCORE\"].count()"
   ]
  },
  {
   "cell_type": "markdown",
   "id": "numerical-genre",
   "metadata": {},
   "source": [
    "## Mission 4:\n",
    "\n",
    "### Defining RFM scores as segments\n",
    "\n",
    "▪ Make segment definitions so that the generated RFM scores can be explained more clearly.\n",
    "\n",
    "▪ Convert the scores into segments with the help of the seg_map below."
   ]
  },
  {
   "cell_type": "code",
   "execution_count": 43,
   "id": "adaptive-algeria",
   "metadata": {},
   "outputs": [],
   "source": [
    "seg_map = {\n",
    "    r'[1-2][1-2]': 'hibernating',\n",
    "    r'[1-2][3-4]': 'at_Risk',\n",
    "    r'[1-2]5': 'cant_loose',\n",
    "    r'3[1-2]': 'about_to_sleep',\n",
    "    r'33': 'need_attention',\n",
    "    r'[3-4][4-5]': 'loyal_customers',\n",
    "    r'41': 'promising',\n",
    "    r'51': 'new_customers',\n",
    "    r'[4-5][2-3]': 'potential_loyalists',\n",
    "    r'5[4-5]': 'champions'\n",
    "}"
   ]
  },
  {
   "cell_type": "code",
   "execution_count": 44,
   "id": "royal-replication",
   "metadata": {},
   "outputs": [
    {
     "data": {
      "text/html": [
       "<div>\n",
       "<style scoped>\n",
       "    .dataframe tbody tr th:only-of-type {\n",
       "        vertical-align: middle;\n",
       "    }\n",
       "\n",
       "    .dataframe tbody tr th {\n",
       "        vertical-align: top;\n",
       "    }\n",
       "\n",
       "    .dataframe thead th {\n",
       "        text-align: right;\n",
       "    }\n",
       "</style>\n",
       "<table border=\"1\" class=\"dataframe\">\n",
       "  <thead>\n",
       "    <tr style=\"text-align: right;\">\n",
       "      <th></th>\n",
       "      <th>Recency</th>\n",
       "      <th>Frequence</th>\n",
       "      <th>Monetary</th>\n",
       "      <th>Recency_Score</th>\n",
       "      <th>Frequence_Score</th>\n",
       "      <th>Monetary_Score</th>\n",
       "      <th>RFM_SCORE</th>\n",
       "      <th>Segment</th>\n",
       "    </tr>\n",
       "    <tr>\n",
       "      <th>Customer ID</th>\n",
       "      <th></th>\n",
       "      <th></th>\n",
       "      <th></th>\n",
       "      <th></th>\n",
       "      <th></th>\n",
       "      <th></th>\n",
       "      <th></th>\n",
       "      <th></th>\n",
       "    </tr>\n",
       "  </thead>\n",
       "  <tbody>\n",
       "    <tr>\n",
       "      <th>12346.0000</th>\n",
       "      <td>326</td>\n",
       "      <td>1</td>\n",
       "      <td>77183.6000</td>\n",
       "      <td>1</td>\n",
       "      <td>1</td>\n",
       "      <td>5</td>\n",
       "      <td>11</td>\n",
       "      <td>hibernating</td>\n",
       "    </tr>\n",
       "    <tr>\n",
       "      <th>12347.0000</th>\n",
       "      <td>3</td>\n",
       "      <td>7</td>\n",
       "      <td>4310.0000</td>\n",
       "      <td>5</td>\n",
       "      <td>5</td>\n",
       "      <td>5</td>\n",
       "      <td>55</td>\n",
       "      <td>champions</td>\n",
       "    </tr>\n",
       "    <tr>\n",
       "      <th>12348.0000</th>\n",
       "      <td>76</td>\n",
       "      <td>4</td>\n",
       "      <td>1797.2400</td>\n",
       "      <td>2</td>\n",
       "      <td>4</td>\n",
       "      <td>4</td>\n",
       "      <td>24</td>\n",
       "      <td>at_Risk</td>\n",
       "    </tr>\n",
       "    <tr>\n",
       "      <th>12349.0000</th>\n",
       "      <td>19</td>\n",
       "      <td>1</td>\n",
       "      <td>1757.5500</td>\n",
       "      <td>4</td>\n",
       "      <td>1</td>\n",
       "      <td>4</td>\n",
       "      <td>41</td>\n",
       "      <td>promising</td>\n",
       "    </tr>\n",
       "    <tr>\n",
       "      <th>12350.0000</th>\n",
       "      <td>311</td>\n",
       "      <td>1</td>\n",
       "      <td>334.4000</td>\n",
       "      <td>1</td>\n",
       "      <td>1</td>\n",
       "      <td>2</td>\n",
       "      <td>11</td>\n",
       "      <td>hibernating</td>\n",
       "    </tr>\n",
       "  </tbody>\n",
       "</table>\n",
       "</div>"
      ],
      "text/plain": [
       "             Recency  Frequence   Monetary Recency_Score Frequence_Score Monetary_Score RFM_SCORE      Segment\n",
       "Customer ID                                                                                                   \n",
       "12346.0000       326          1 77183.6000             1               1              5        11  hibernating\n",
       "12347.0000         3          7  4310.0000             5               5              5        55    champions\n",
       "12348.0000        76          4  1797.2400             2               4              4        24      at_Risk\n",
       "12349.0000        19          1  1757.5500             4               1              4        41    promising\n",
       "12350.0000       311          1   334.4000             1               1              2        11  hibernating"
      ]
     },
     "execution_count": 44,
     "metadata": {},
     "output_type": "execute_result"
    }
   ],
   "source": [
    "# Here, when the regex is False, it does not detect [1-2][1-2] values, only 33,41,51 values.\n",
    "# We make it detect all of them by making Regex True\n",
    "rfm[\"Segment\"] = rfm[\"RFM_SCORE\"].replace(seg_map , regex = True)\n",
    "rfm.head()"
   ]
  },
  {
   "cell_type": "code",
   "execution_count": 45,
   "id": "seventh-beast",
   "metadata": {},
   "outputs": [
    {
     "data": {
      "image/png": "[encoded data removed]",
      "text/plain": [
       "<Figure size 1080x360 with 3 Axes>"
      ]
     },
     "metadata": {
      "needs_background": "light"
     },
     "output_type": "display_data"
    }
   ],
   "source": [
    "plt.figure(figsize = (15,5))\n",
    "i = 1\n",
    "for col in [\"Recency\",\"Frequence\",\"Monetary\"]:\n",
    "    plt.subplot(1,3,i)\n",
    "    sns.distplot(rfm[col])\n",
    "    i+=1\n",
    "    \n",
    "plt.tight_layout()\n",
    "plt.show()"
   ]
  },
  {
   "cell_type": "code",
   "execution_count": 46,
   "id": "professional-colors",
   "metadata": {},
   "outputs": [
    {
     "data": {
      "image/png": "[encoded data removed]",
      "text/plain": [
       "<Figure size 1080x360 with 3 Axes>"
      ]
     },
     "metadata": {
      "needs_background": "light"
     },
     "output_type": "display_data"
    }
   ],
   "source": [
    "plt.figure(figsize = (15,5))\n",
    "i = 1\n",
    "for col in [\"Recency\",\"Frequence\",\"Monetary\"]:\n",
    "    plt.subplot(1,3,i)\n",
    "    sns.distplot(np.log1p(rfm[col]))\n",
    "    i+=1\n",
    "    \n",
    "plt.tight_layout()\n",
    "plt.show()"
   ]
  },
  {
   "cell_type": "code",
   "execution_count": 47,
   "id": "expressed-disney",
   "metadata": {},
   "outputs": [
    {
     "data": {
      "image/png": "[encoded data removed]",
      "text/plain": [
       "<Figure size 1080x720 with 1 Axes>"
      ]
     },
     "metadata": {
      "needs_background": "light"
     },
     "output_type": "display_data"
    }
   ],
   "source": [
    "plt.figure(figsize = (15,10))\n",
    "\n",
    "sns.scatterplot(x = rfm[\"Recency\"], y = rfm[\"Frequence\"] , hue=rfm[\"Segment\"])\n",
    "\n",
    "size = 15\n",
    "plt.xlabel(\"Recency\" , fontsize = size)\n",
    "plt.ylabel(\"Frequence\", fontsize = size)\n",
    "plt.title(\"Frequence ~ Recency\" ,fontsize = size)\n",
    "plt.show()"
   ]
  },
  {
   "cell_type": "markdown",
   "id": "cosmetic-alarm",
   "metadata": {},
   "source": [
    "### Mission 5:\n",
    "\n",
    "### Time for action!\n",
    "\n",
    "▪ Select the 3 segments you find important. These three segments;\n",
    "\n",
    "     - Both in terms of action decisions,\n",
    "\n",
    "     - Interpret both in terms of the structure of the segments (mean RFM values).\n",
    "\n",
    "▪ Select the customer IDs of the \"Loyal Customers\" class and get the excel output."
   ]
  },
  {
   "cell_type": "code",
   "execution_count": 48,
   "id": "domestic-grove",
   "metadata": {},
   "outputs": [
    {
     "name": "stdout",
     "output_type": "stream",
     "text": [
      "############ FOR HIBERNATING DESCRIBE ############\n",
      "\n",
      "              count     mean       std     min      25%      50%      75%        max\n",
      "Recency   1071.0000 217.6050   92.0136 73.0000 135.0000 219.0000 289.5000   374.0000\n",
      "Frequence 1071.0000   1.1018    0.3025  1.0000   1.0000   1.0000   1.0000     2.0000\n",
      "Monetary  1071.0000 488.6433 2419.6826  3.7500 155.1100 296.2500 457.9300 77183.6000\n",
      "\n",
      "############# FOR CHAMPIONS DESCRIBE #############\n",
      "\n",
      "             count      mean        std      min       25%       50%       75%         max\n",
      "Recency   633.0000    6.3618     3.6833   1.0000    3.0000    5.0000   10.0000     13.0000\n",
      "Frequence 633.0000   12.4171    16.4765   3.0000    5.0000    8.0000   14.0000    210.0000\n",
      "Monetary  633.0000 6857.9639 20339.7638 201.1200 1451.2800 2612.9600 4954.8400 280206.0200\n",
      "\n",
      "############## FOR AT_RISK DESCRIBE ##############\n",
      "\n",
      "             count      mean       std     min      25%      50%       75%        max\n",
      "Recency   593.0000  153.7858   68.6188 73.0000  96.0000 139.0000  195.0000   374.0000\n",
      "Frequence 593.0000    2.8786    0.9544  2.0000   2.0000   3.0000    3.0000     6.0000\n",
      "Monetary  593.0000 1084.5353 2562.0734 52.0000 412.7800 678.2500 1200.6200 44534.3000\n",
      "\n",
      "############# FOR PROMISING DESCRIBE #############\n",
      "\n",
      "            count     mean      std     min      25%      50%      75%       max\n",
      "Recency   94.0000  23.5106   5.1925 15.0000  19.0000  23.0000  27.0000   33.0000\n",
      "Frequence 94.0000   1.0000   0.0000  1.0000   1.0000   1.0000   1.0000    1.0000\n",
      "Monetary  94.0000 294.0080 240.4066 30.0000 141.5675 221.4250 361.8450 1757.5500\n",
      "\n",
      "########## FOR LOYAL_CUSTOMERS DESCRIBE ##########\n",
      "\n",
      "             count      mean       std     min      25%       50%       75%         max\n",
      "Recency   819.0000   33.6081   15.5770 15.0000  20.0000   30.0000   44.0000     72.0000\n",
      "Frequence 819.0000    6.4799    4.5457  3.0000   4.0000    5.0000    8.0000     63.0000\n",
      "Monetary  819.0000 2864.2478 6007.0619 36.5600 991.7950 1740.4800 3052.9050 124914.5300\n",
      "\n",
      "######## FOR POTENTIAL_LOYALISTS DESCRIBE ########\n",
      "\n",
      "             count      mean       std     min      25%      50%      75%         max\n",
      "Recency   484.0000   17.3988    9.3388  1.0000  10.0000  18.0000  25.0000     33.0000\n",
      "Frequence 484.0000    2.0103    0.6514  1.0000   2.0000   2.0000   2.0000      3.0000\n",
      "Monetary  484.0000 1041.2220 7656.3239 20.8000 290.1175 521.2750 883.7300 168472.5000\n",
      "\n",
      "########## FOR ABOUT_TO_SLEEP DESCRIBE ###########\n",
      "\n",
      "             count     mean      std     min      25%      50%      75%       max\n",
      "Recency   352.0000  53.3125  10.9435 34.0000  44.0000  53.0000  64.0000   72.0000\n",
      "Frequence 352.0000   1.1619   0.3689  1.0000   1.0000   1.0000   1.0000    2.0000\n",
      "Monetary  352.0000 471.9944 533.5906  6.2000 194.5200 330.0500 543.7500 6207.6700\n",
      "\n",
      "########## FOR NEED_ATTENTION DESCRIBE ###########\n",
      "\n",
      "             count     mean       std     min      25%      50%       75%        max\n",
      "Recency   187.0000  52.4278   11.5521 34.0000  42.0000  52.0000   61.5000    72.0000\n",
      "Frequence 187.0000   2.3262    0.4701  2.0000   2.0000   2.0000    3.0000     3.0000\n",
      "Monetary  187.0000 897.6279 1102.5034  6.9000 385.9650 638.0600 1052.5250 12601.8300\n",
      "\n",
      "########### FOR NEW_CUSTOMERS DESCRIBE ###########\n",
      "\n",
      "            count     mean      std     min      25%      50%      75%       max\n",
      "Recency   42.0000   7.4286   3.9021  1.0000   4.0000   8.0000  11.0000   13.0000\n",
      "Frequence 42.0000   1.0000   0.0000  1.0000   1.0000   1.0000   1.0000    1.0000\n",
      "Monetary  42.0000 388.2129 570.7763 89.9400 195.0375 274.5050 358.3175 3861.0000\n",
      "\n",
      "############ FOR CANT_LOOSE DESCRIBE #############\n",
      "\n",
      "            count      mean       std     min       25%       50%       75%        max\n",
      "Recency   63.0000  132.9683   65.2504 73.0000   89.0000  108.0000  161.0000   373.0000\n",
      "Frequence 63.0000    8.3810    4.2896  6.0000    6.0000    7.0000    9.0000    34.0000\n",
      "Monetary  63.0000 2796.1559 2090.4900 70.0200 1137.5050 2225.9700 3532.2350 10254.1800\n",
      "\n"
     ]
    }
   ],
   "source": [
    "segment_names = rfm[\"Segment\"].unique().tolist()\n",
    "for name in segment_names:\n",
    "    print(f\" For { name } Describe \".upper().center(50,\"#\"),end = \"\\n\\n\")\n",
    "    \n",
    "    print(pd.DataFrame(data = rfm[rfm[\"Segment\"] == name].describe().T), end = \"\\n\\n\")"
   ]
  },
  {
   "cell_type": "code",
   "execution_count": 49,
   "id": "smooth-georgia",
   "metadata": {},
   "outputs": [
    {
     "data": {
      "text/html": [
       "<div>\n",
       "<style scoped>\n",
       "    .dataframe tbody tr th:only-of-type {\n",
       "        vertical-align: middle;\n",
       "    }\n",
       "\n",
       "    .dataframe tbody tr th {\n",
       "        vertical-align: top;\n",
       "    }\n",
       "\n",
       "    .dataframe thead th {\n",
       "        text-align: right;\n",
       "    }\n",
       "</style>\n",
       "<table border=\"1\" class=\"dataframe\">\n",
       "  <thead>\n",
       "    <tr style=\"text-align: right;\">\n",
       "      <th></th>\n",
       "      <th>Segment</th>\n",
       "    </tr>\n",
       "  </thead>\n",
       "  <tbody>\n",
       "    <tr>\n",
       "      <th>hibernating</th>\n",
       "      <td>1071</td>\n",
       "    </tr>\n",
       "    <tr>\n",
       "      <th>loyal_customers</th>\n",
       "      <td>819</td>\n",
       "    </tr>\n",
       "    <tr>\n",
       "      <th>champions</th>\n",
       "      <td>633</td>\n",
       "    </tr>\n",
       "    <tr>\n",
       "      <th>at_Risk</th>\n",
       "      <td>593</td>\n",
       "    </tr>\n",
       "    <tr>\n",
       "      <th>potential_loyalists</th>\n",
       "      <td>484</td>\n",
       "    </tr>\n",
       "    <tr>\n",
       "      <th>about_to_sleep</th>\n",
       "      <td>352</td>\n",
       "    </tr>\n",
       "    <tr>\n",
       "      <th>need_attention</th>\n",
       "      <td>187</td>\n",
       "    </tr>\n",
       "    <tr>\n",
       "      <th>promising</th>\n",
       "      <td>94</td>\n",
       "    </tr>\n",
       "    <tr>\n",
       "      <th>cant_loose</th>\n",
       "      <td>63</td>\n",
       "    </tr>\n",
       "    <tr>\n",
       "      <th>new_customers</th>\n",
       "      <td>42</td>\n",
       "    </tr>\n",
       "  </tbody>\n",
       "</table>\n",
       "</div>"
      ],
      "text/plain": [
       "                     Segment\n",
       "hibernating             1071\n",
       "loyal_customers          819\n",
       "champions                633\n",
       "at_Risk                  593\n",
       "potential_loyalists      484\n",
       "about_to_sleep           352\n",
       "need_attention           187\n",
       "promising                 94\n",
       "cant_loose                63\n",
       "new_customers             42"
      ]
     },
     "execution_count": 49,
     "metadata": {},
     "output_type": "execute_result"
    }
   ],
   "source": [
    "segment = rfm[\"Segment\"].value_counts()\n",
    "segment = pd.DataFrame(segment).sort_values(by = \"Segment\" , ascending = False)\n",
    "segment"
   ]
  },
  {
   "cell_type": "code",
   "execution_count": 50,
   "id": "coordinate-fisher",
   "metadata": {},
   "outputs": [
    {
     "data": {
      "text/html": [
       "<div>\n",
       "<style scoped>\n",
       "    .dataframe tbody tr th:only-of-type {\n",
       "        vertical-align: middle;\n",
       "    }\n",
       "\n",
       "    .dataframe tbody tr th {\n",
       "        vertical-align: top;\n",
       "    }\n",
       "\n",
       "    .dataframe thead tr th {\n",
       "        text-align: left;\n",
       "    }\n",
       "\n",
       "    .dataframe thead tr:last-of-type th {\n",
       "        text-align: right;\n",
       "    }\n",
       "</style>\n",
       "<table border=\"1\" class=\"dataframe\">\n",
       "  <thead>\n",
       "    <tr>\n",
       "      <th></th>\n",
       "      <th colspan=\"2\" halign=\"left\">Frequence</th>\n",
       "      <th colspan=\"2\" halign=\"left\">Recency</th>\n",
       "      <th colspan=\"2\" halign=\"left\">Monetary</th>\n",
       "    </tr>\n",
       "    <tr>\n",
       "      <th></th>\n",
       "      <th>mean</th>\n",
       "      <th>count</th>\n",
       "      <th>mean</th>\n",
       "      <th>count</th>\n",
       "      <th>mean</th>\n",
       "      <th>count</th>\n",
       "    </tr>\n",
       "    <tr>\n",
       "      <th>Segment</th>\n",
       "      <th></th>\n",
       "      <th></th>\n",
       "      <th></th>\n",
       "      <th></th>\n",
       "      <th></th>\n",
       "      <th></th>\n",
       "    </tr>\n",
       "  </thead>\n",
       "  <tbody>\n",
       "    <tr>\n",
       "      <th>about_to_sleep</th>\n",
       "      <td>1.1619</td>\n",
       "      <td>352</td>\n",
       "      <td>53.3125</td>\n",
       "      <td>352</td>\n",
       "      <td>471.9944</td>\n",
       "      <td>352</td>\n",
       "    </tr>\n",
       "    <tr>\n",
       "      <th>at_Risk</th>\n",
       "      <td>2.8786</td>\n",
       "      <td>593</td>\n",
       "      <td>153.7858</td>\n",
       "      <td>593</td>\n",
       "      <td>1084.5353</td>\n",
       "      <td>593</td>\n",
       "    </tr>\n",
       "    <tr>\n",
       "      <th>cant_loose</th>\n",
       "      <td>8.3810</td>\n",
       "      <td>63</td>\n",
       "      <td>132.9683</td>\n",
       "      <td>63</td>\n",
       "      <td>2796.1559</td>\n",
       "      <td>63</td>\n",
       "    </tr>\n",
       "    <tr>\n",
       "      <th>champions</th>\n",
       "      <td>12.4171</td>\n",
       "      <td>633</td>\n",
       "      <td>6.3618</td>\n",
       "      <td>633</td>\n",
       "      <td>6857.9639</td>\n",
       "      <td>633</td>\n",
       "    </tr>\n",
       "    <tr>\n",
       "      <th>hibernating</th>\n",
       "      <td>1.1018</td>\n",
       "      <td>1071</td>\n",
       "      <td>217.6050</td>\n",
       "      <td>1071</td>\n",
       "      <td>488.6433</td>\n",
       "      <td>1071</td>\n",
       "    </tr>\n",
       "    <tr>\n",
       "      <th>loyal_customers</th>\n",
       "      <td>6.4799</td>\n",
       "      <td>819</td>\n",
       "      <td>33.6081</td>\n",
       "      <td>819</td>\n",
       "      <td>2864.2478</td>\n",
       "      <td>819</td>\n",
       "    </tr>\n",
       "    <tr>\n",
       "      <th>need_attention</th>\n",
       "      <td>2.3262</td>\n",
       "      <td>187</td>\n",
       "      <td>52.4278</td>\n",
       "      <td>187</td>\n",
       "      <td>897.6279</td>\n",
       "      <td>187</td>\n",
       "    </tr>\n",
       "    <tr>\n",
       "      <th>new_customers</th>\n",
       "      <td>1.0000</td>\n",
       "      <td>42</td>\n",
       "      <td>7.4286</td>\n",
       "      <td>42</td>\n",
       "      <td>388.2129</td>\n",
       "      <td>42</td>\n",
       "    </tr>\n",
       "    <tr>\n",
       "      <th>potential_loyalists</th>\n",
       "      <td>2.0103</td>\n",
       "      <td>484</td>\n",
       "      <td>17.3988</td>\n",
       "      <td>484</td>\n",
       "      <td>1041.2220</td>\n",
       "      <td>484</td>\n",
       "    </tr>\n",
       "    <tr>\n",
       "      <th>promising</th>\n",
       "      <td>1.0000</td>\n",
       "      <td>94</td>\n",
       "      <td>23.5106</td>\n",
       "      <td>94</td>\n",
       "      <td>294.0080</td>\n",
       "      <td>94</td>\n",
       "    </tr>\n",
       "  </tbody>\n",
       "</table>\n",
       "</div>"
      ],
      "text/plain": [
       "                    Frequence        Recency        Monetary      \n",
       "                         mean count     mean count      mean count\n",
       "Segment                                                           \n",
       "about_to_sleep         1.1619   352  53.3125   352  471.9944   352\n",
       "at_Risk                2.8786   593 153.7858   593 1084.5353   593\n",
       "cant_loose             8.3810    63 132.9683    63 2796.1559    63\n",
       "champions             12.4171   633   6.3618   633 6857.9639   633\n",
       "hibernating            1.1018  1071 217.6050  1071  488.6433  1071\n",
       "loyal_customers        6.4799   819  33.6081   819 2864.2478   819\n",
       "need_attention         2.3262   187  52.4278   187  897.6279   187\n",
       "new_customers          1.0000    42   7.4286    42  388.2129    42\n",
       "potential_loyalists    2.0103   484  17.3988   484 1041.2220   484\n",
       "promising              1.0000    94  23.5106    94  294.0080    94"
      ]
     },
     "execution_count": 50,
     "metadata": {},
     "output_type": "execute_result"
    }
   ],
   "source": [
    "rfm[[\"Segment\",\"Frequence\",\"Recency\",\"Monetary\"]].groupby(\"Segment\").agg([\"mean\",\"count\"])"
   ]
  },
  {
   "cell_type": "markdown",
   "id": "revolutionary-bleeding",
   "metadata": {},
   "source": [
    "### Champions Class\n",
    "\n",
    "* This class is the class that brings the most returns. He sees that he is logged in frequently according to his recency value. His Frequence value is higher than the others, which makes this class Champions. By creating more opportunities for them, we can increase their monetary value even more...\n",
    "\n",
    "### Loyal Customers\n",
    "\n",
    "* We can organize special campaigns to attract this class to the champions class and increase their returns to us more.\n",
    "\n",
    "### Can't Loose\n",
    "\n",
    "* These customers are more when we compare their frequencies with loyal customers, but the difference between them is very high, they are close to each other in terms of return, it may be a plus for us to be in contact with them so that they can visit more often in order not to keep them away. Campaigns can be organized according to what they are more interested in..."
   ]
  },
  {
   "cell_type": "markdown",
   "id": "revised-buyer",
   "metadata": {},
   "source": [
    "### Select the customer IDs of the \"Loyal Customers\" class and get the excel output."
   ]
  },
  {
   "cell_type": "code",
   "execution_count": 51,
   "id": "intense-production",
   "metadata": {},
   "outputs": [],
   "source": [
    "loyal_customers = pd.DataFrame()\n",
    "loyal_customers[\"Loyal_Customers_ID\"] = rfm[rfm[\"Segment\"] == \"loyal_customers\"].index\n",
    "loyal_customers.to_excel(\"loyal_customers_id.xlsx\")"
   ]
  },
  {
   "cell_type": "code",
   "execution_count": 52,
   "id": "aquatic-visitor",
   "metadata": {},
   "outputs": [
    {
     "name": "stdout",
     "output_type": "stream",
     "text": [
      "Loyal Customers Shape : (819, 1)\n"
     ]
    }
   ],
   "source": [
    "print(\"Loyal Customers Shape : {}\".format(loyal_customers.shape))"
   ]
  },
  {
   "cell_type": "code",
   "execution_count": 53,
   "id": "likely-california",
   "metadata": {},
   "outputs": [
    {
     "data": {
      "text/html": [
       "<div>\n",
       "<style scoped>\n",
       "    .dataframe tbody tr th:only-of-type {\n",
       "        vertical-align: middle;\n",
       "    }\n",
       "\n",
       "    .dataframe tbody tr th {\n",
       "        vertical-align: top;\n",
       "    }\n",
       "\n",
       "    .dataframe thead th {\n",
       "        text-align: right;\n",
       "    }\n",
       "</style>\n",
       "<table border=\"1\" class=\"dataframe\">\n",
       "  <thead>\n",
       "    <tr style=\"text-align: right;\">\n",
       "      <th></th>\n",
       "      <th>Loyal_Customers_ID</th>\n",
       "    </tr>\n",
       "  </thead>\n",
       "  <tbody>\n",
       "    <tr>\n",
       "      <th>0</th>\n",
       "      <td>12352.0000</td>\n",
       "    </tr>\n",
       "    <tr>\n",
       "      <th>1</th>\n",
       "      <td>12359.0000</td>\n",
       "    </tr>\n",
       "    <tr>\n",
       "      <th>2</th>\n",
       "      <td>12370.0000</td>\n",
       "    </tr>\n",
       "    <tr>\n",
       "      <th>3</th>\n",
       "      <td>12380.0000</td>\n",
       "    </tr>\n",
       "    <tr>\n",
       "      <th>4</th>\n",
       "      <td>12388.0000</td>\n",
       "    </tr>\n",
       "  </tbody>\n",
       "</table>\n",
       "</div>"
      ],
      "text/plain": [
       "   Loyal_Customers_ID\n",
       "0          12352.0000\n",
       "1          12359.0000\n",
       "2          12370.0000\n",
       "3          12380.0000\n",
       "4          12388.0000"
      ]
     },
     "execution_count": 53,
     "metadata": {},
     "output_type": "execute_result"
    }
   ],
   "source": [
    "loyal_customers.head()"
   ]
  },
  {
   "cell_type": "code",
   "execution_count": null,
   "id": "tribal-suffering",
   "metadata": {},
   "outputs": [],
   "source": []
  }
 ],
 "metadata": {
  "kernelspec": {
   "display_name": "Python 3",
   "language": "python",
   "name": "python3"
  },
  "language_info": {
   "codemirror_mode": {
    "name": "ipython",
    "version": 3
   },
   "file_extension": ".py",
   "mimetype": "text/x-python",
   "name": "python",
   "nbconvert_exporter": "python",
   "pygments_lexer": "ipython3",
   "version": "3.7.7"
  }
 },
 "nbformat": 4,
 "nbformat_minor": 5
}
